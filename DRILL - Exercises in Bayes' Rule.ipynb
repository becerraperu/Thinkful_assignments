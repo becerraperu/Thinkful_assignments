{
 "cells": [
  {
   "cell_type": "code",
   "execution_count": 1,
   "metadata": {},
   "outputs": [],
   "source": [
    "# A diagnostic test has a 98% probability of giving a positive result when applied to a person \n",
    "#   suffering from Thripshaw's Disease, \n",
    "# and 10% probability of giving a (false) positive when applied to a non-sufferer. \n",
    "# It is estimated that 0.5 % of the population are sufferers. \n",
    "# Suppose that the test is now administered to a person whose disease status is unknown. \n",
    "# Calculate the probability that the test will:\n",
    "\n",
    "# 1. Be positive\n",
    "# 2. Correctly diagnose a sufferer of Thripshaw's\n",
    "# 3. Correctly identify a non-sufferer of Thripshaw's\n",
    "# 4. Misclassify the person"
   ]
  },
  {
   "cell_type": "code",
   "execution_count": 2,
   "metadata": {},
   "outputs": [
    {
     "name": "stdout",
     "output_type": "stream",
     "text": [
      "P(A | B) =  0.046934865900383135\n"
     ]
    }
   ],
   "source": [
    "# Probability of A given B is equal to: \n",
    "# P(A | B) = P(B | A) * P(A) / P(B)\n",
    "\n",
    "probability_A = 0.005\n",
    "probability_NA = 1 - probability_A\n",
    "probability_B_given_A = 0.98\n",
    "probability_B_given_NA = 0.1\n",
    "\n",
    "\n",
    "probability_A_given_B = probability_B_given_A * probability_A / ((probability_B_given_A * probability_A) + (probability_B_given_NA * probability_NA))\n",
    "\n",
    "print('P(A | B) = ', probability_A_given_B)"
   ]
  },
  {
   "cell_type": "code",
   "execution_count": 3,
   "metadata": {},
   "outputs": [
    {
     "name": "stdout",
     "output_type": "stream",
     "text": [
      "0.1044\n"
     ]
    }
   ],
   "source": [
    "# 1. Be positive \n",
    "# P(B|A)*P(A) + P(B|NA)*P(NA)\n",
    "\n",
    "positive = probability_B_given_A * probability_A + probability_B_given_NA * probability_NA\n",
    "print (positive)"
   ]
  },
  {
   "cell_type": "code",
   "execution_count": 4,
   "metadata": {},
   "outputs": [],
   "source": [
    "# 2. Correctly diagnose a sufferer of Thripshaw's\n",
    "# Answer: given = 0.98"
   ]
  },
  {
   "cell_type": "code",
   "execution_count": 5,
   "metadata": {},
   "outputs": [
    {
     "data": {
      "text/plain": [
       "0.9"
      ]
     },
     "execution_count": 5,
     "metadata": {},
     "output_type": "execute_result"
    }
   ],
   "source": [
    "# 3. Correctly identify a non-sufferer of Thripshaw's\n",
    "\n",
    "# This is equal to 1 - P(B|NA)\n",
    "\n",
    "non_suff = 1 - probability_B_given_NA\n",
    "non_suff"
   ]
  },
  {
   "cell_type": "code",
   "execution_count": 6,
   "metadata": {},
   "outputs": [
    {
     "data": {
      "text/plain": [
       "0.09960000000000002"
      ]
     },
     "execution_count": 6,
     "metadata": {},
     "output_type": "execute_result"
    }
   ],
   "source": [
    "# 4. Misclassify the person\n",
    "\n",
    "# This is equal to 1 - [P(B|A)*P(A) + (1 - P(B|NA))*P(NA)]\n",
    "\n",
    "misclassify = 1 - (probability_B_given_A * probability_A + non_suff * probability_NA)\n",
    "misclassify"
   ]
  }
 ],
 "metadata": {
  "kernelspec": {
   "display_name": "Python 3",
   "language": "python",
   "name": "python3"
  },
  "language_info": {
   "codemirror_mode": {
    "name": "ipython",
    "version": 3
   },
   "file_extension": ".py",
   "mimetype": "text/x-python",
   "name": "python",
   "nbconvert_exporter": "python",
   "pygments_lexer": "ipython3",
   "version": "3.6.4"
  }
 },
 "nbformat": 4,
 "nbformat_minor": 2
}
