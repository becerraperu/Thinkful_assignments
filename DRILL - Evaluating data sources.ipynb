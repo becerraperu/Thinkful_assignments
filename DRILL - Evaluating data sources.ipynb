{
 "cells": [
  {
   "cell_type": "markdown",
   "metadata": {},
   "source": [
    "### DRILL: Evaluating data sources for possible shortcomings."
   ]
  },
  {
   "cell_type": "markdown",
   "metadata": {},
   "source": [
    "Data Source: Amsterdam availability data scraped from AirBnB on December 24th. \n",
    "Question: What are the popular neighborhoods in Amsterdam?  \n",
    "- Travelers on December 24th are probably vacationing for Christmas, so may have different interests during that time of year.  \n",
    "- It may be better to choose a sampling period that doesn’t include a major holiday, or reframe the question to focus on popular neighborhoods during major holidays.\n",
    "\n",
    "\n",
    "Data Source: Mental health services use on September 12, 2001 in San Francisco, CA and New York City, NY. \n",
    "Question: How do patterns of mental health service use vary between cities?\n",
    "- The Twin Towers were hit by a terrorist attack in New York City, representing an anomaly.  \n",
    "- Families and friends of victims most likely required additional mental health resources the next day. \n",
    "- The question could instead be reframed to mental health use in the aftermath of a nearby or distant crisis\n",
    "\n",
    "\n",
    "Data Source: Armenian Pub Survey. Question: What are the most common reasons Armenians visit local pubs?\n",
    "- Are the locations representative of the distribution of pubs in Armenia?\n",
    "- It looks like the surveys were primarily done by students, which may not represent the population proportionately.\n",
    "- The question could be reframed to address student preferences in the Capital."
   ]
  }
 ],
 "metadata": {
  "kernelspec": {
   "display_name": "Python 3",
   "language": "python",
   "name": "python3"
  },
  "language_info": {
   "codemirror_mode": {
    "name": "ipython",
    "version": 3
   },
   "file_extension": ".py",
   "mimetype": "text/x-python",
   "name": "python",
   "nbconvert_exporter": "python",
   "pygments_lexer": "ipython3",
   "version": "3.6.4"
  }
 },
 "nbformat": 4,
 "nbformat_minor": 2
}
