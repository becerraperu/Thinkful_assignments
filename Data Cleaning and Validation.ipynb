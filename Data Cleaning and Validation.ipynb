{
 "cells": [
  {
   "cell_type": "markdown",
   "metadata": {},
   "source": [
    "## Challenge: Data cleaning & validation"
   ]
  },
  {
   "cell_type": "code",
   "execution_count": 1,
   "metadata": {},
   "outputs": [],
   "source": [
    "import numpy as np\n",
    "import pandas as pd\n",
    "import matplotlib.pyplot as plt\n",
    "import seaborn as sns\n",
    "import scipy.stats as stats\n",
    "import statistics\n",
    "from scipy.stats import ttest_ind"
   ]
  },
  {
   "cell_type": "markdown",
   "metadata": {},
   "source": [
    "Data Source: WELLCOME Trust between 2012 and 2013, a csv of journals, articles and their costs.\n",
    "    \n",
    "Questions: \n",
    "1. Determine the five most common journals and the total articles for each. \n",
    "2. Calculate the mean, median, and standard deviation of the open-access cost per article for each journal "
   ]
  },
  {
   "cell_type": "code",
   "execution_count": 2,
   "metadata": {},
   "outputs": [],
   "source": [
    "df = pd.read_csv('wellcome.csv')"
   ]
  },
  {
   "cell_type": "code",
   "execution_count": 3,
   "metadata": {},
   "outputs": [
    {
     "data": {
      "text/plain": [
       "<bound method DataFrame.info of                             PMID/PMCID  \\\n",
       "0                                  NaN   \n",
       "1                           PMC3679557   \n",
       "2                23043264  PMC3506128    \n",
       "3                  23438330 PMC3646402   \n",
       "4                 23438216 PMC3601604    \n",
       "5                           PMC3579457   \n",
       "6                           PMC3709265   \n",
       "7                 23057412 PMC3495574    \n",
       "8                    PMCID: PMC3780468   \n",
       "9                    PMCID: PMC3621575   \n",
       "10                   PMCID: PMC3739413   \n",
       "11                   PMCID: PMC3530961   \n",
       "12                   PMCID: PMC3624797   \n",
       "13                          PMC3413243   \n",
       "14                          PMC3694353   \n",
       "15                          PMC3572711   \n",
       "16                            22610094   \n",
       "17                   PMCID: PMC3586974   \n",
       "18        23455506  PMCID: PMC3607399    \n",
       "19          PMID: 24015914 PMC3833349    \n",
       "20                       : PMC3805332    \n",
       "21                                 NaN   \n",
       "22            PMCID:\\n    PMC3656742\\n   \n",
       "23                      PMCID: 3584654   \n",
       "24                 22971149 PMC3466778   \n",
       "25                            23072351   \n",
       "26                          PMC3477822   \n",
       "27                          PMC3530960   \n",
       "28                23458425 PMC3630740    \n",
       "29                      PMID: 20146481   \n",
       "...                                ...   \n",
       "2097                           3575693   \n",
       "2098        PMID: 22188548 PMC3492912    \n",
       "2099        PMID: 22764734 PMC3798095    \n",
       "2100                    PMID: 23703895   \n",
       "2101                 PMCID: PMC3664106   \n",
       "2102                    PMID: 23649934   \n",
       "2103                        PMC2955965   \n",
       "2104        PMID: 19948006 PMC3551259    \n",
       "2105                    PMID: 23305527   \n",
       "2106                 PMCID: PMC3600532   \n",
       "2107                        PMC3440570   \n",
       "2108              23670821 PMC3738939    \n",
       "2109                          23640856   \n",
       "2110                    PMID: 23918316   \n",
       "2111                 PMCID: PMC3728731   \n",
       "2112       23495205685.88 PMC3743159     \n",
       "2113         PMID:22997008 PMC3569869    \n",
       "2114                           3708104   \n",
       "2115                        PMC3713766   \n",
       "2116                        PMC3819359   \n",
       "2117                       PMC3773237    \n",
       "2118                       PMC3815011    \n",
       "2119                        PMC3805356   \n",
       "2120                             Epub    \n",
       "2121                        PMC3707567   \n",
       "2122                           2901593   \n",
       "2123                           3748854   \n",
       "2124                           3785148   \n",
       "2125          PMCID:\\n    PMC3647051\\n   \n",
       "2126  PMID: 23846567  (Epub July 2013)   \n",
       "\n",
       "                                         Publisher  \\\n",
       "0                                              CUP   \n",
       "1                                              ACS   \n",
       "2                                              ACS   \n",
       "3                                              ACS   \n",
       "4                                              ACS   \n",
       "5                                              ACS   \n",
       "6                                              ACS   \n",
       "7                                              ACS   \n",
       "8     ACS (Amercian Chemical Society) Publications   \n",
       "9     ACS (Amercian Chemical Society) Publications   \n",
       "10    ACS (Amercian Chemical Society) Publications   \n",
       "11    ACS (Amercian Chemical Society) Publications   \n",
       "12    ACS (Amercian Chemical Society) Publications   \n",
       "13                                ACS Publications   \n",
       "14                                ACS Publications   \n",
       "15                                   AGA Institute   \n",
       "16                                           AMBSB   \n",
       "17           American Association of Immunologists   \n",
       "18           American Association of Immunologists   \n",
       "19                       American Chemical Society   \n",
       "20                       American Chemical Society   \n",
       "21                       American Chemical Society   \n",
       "22                       American Chemical Society   \n",
       "23                       AMERICAN CHEMICAL SOCIETY   \n",
       "24                       American Chemical Society   \n",
       "25                       American Chemical Society   \n",
       "26                       American Chemical Society   \n",
       "27                       American Chemical Society   \n",
       "28                       American Chemical Society   \n",
       "29                       American Chemical Society   \n",
       "...                                            ...   \n",
       "2097                               Wiley-Blackwell   \n",
       "2098                               Wiley-Blackwell   \n",
       "2099                               Wiley-Blackwell   \n",
       "2100                               Wiley-Blackwell   \n",
       "2101                               Wiley-Blackwell   \n",
       "2102                               Wiley-Blackwell   \n",
       "2103                               Wiley-Blackwell   \n",
       "2104                               Wiley-Blackwell   \n",
       "2105                               Wiley-Blackwell   \n",
       "2106                               Wiley-Blackwell   \n",
       "2107            Wiley-Blackwell, John Wiley & Sons   \n",
       "2108                                     Wiley-VCH   \n",
       "2109                                     Wiley-VCH   \n",
       "2110                                     Wiley-VCH   \n",
       "2111                                     Wiley-VCH   \n",
       "2112                                     Wiley-VCH   \n",
       "2113                                     Wiley-VCH   \n",
       "2114                               Wliey-Blackwell   \n",
       "2115                                Wolters Kluwer   \n",
       "2116                                Wolters Kluwer   \n",
       "2117                                Wolters Kluwer   \n",
       "2118                                Wolters Kluwer   \n",
       "2119                                Wolters Kluwer   \n",
       "2120                                Wolters Kluwer   \n",
       "2121                                Wolters Kluwer   \n",
       "2122                         Wolters Kluwer Health   \n",
       "2123                        Wolters Kluwer Health    \n",
       "2124                        Wolters Kluwer Health    \n",
       "2125                 Wolters Kluwer N.V./Lippinott   \n",
       "2126                               Wolters Kluwers   \n",
       "\n",
       "                                          Journal title  \\\n",
       "0                                Psychological Medicine   \n",
       "1                                     Biomacromolecules   \n",
       "2                                            J Med Chem   \n",
       "3                                            J Med Chem   \n",
       "4                                            J Org Chem   \n",
       "5                        Journal of Medicinal Chemistry   \n",
       "6                          Journal of Proteome Research   \n",
       "7                                             Mol Pharm   \n",
       "8                                  ACS Chemical Biology   \n",
       "9                                  ACS Chemical Biology   \n",
       "10         Journal of Chemical Information and Modeling   \n",
       "11                       Journal of Medicinal Chemistry   \n",
       "12                       Journal of Medicinal Chemistry   \n",
       "13                                         Biochemistry   \n",
       "14                       Journal of Medicinal Chemistry   \n",
       "15                                     Gastroenterology   \n",
       "16                      Journal of Biological Chemistry   \n",
       "17                                Journal of Immunology   \n",
       "18                                Journal of Immunology   \n",
       "19                                 ACS Chemical Biology   \n",
       "20                                 ACS Chemical Biology   \n",
       "21                                 ACS Chemical Biology   \n",
       "22                            ACS Chemical Neuroscience   \n",
       "23                                             ACS NANO   \n",
       "24                            American Chemical Society   \n",
       "25                                 Analytical Chemistry   \n",
       "26                                 Analytical Chemistry   \n",
       "27                                 Analytical Chemistry   \n",
       "28                               Bioconjugate Chemistry   \n",
       "29                       Journal of Medicinal Chemistry   \n",
       "...                                                 ...   \n",
       "2097                             Molecular Microbiology   \n",
       "2098                                    Obesity Reviews   \n",
       "2099                                    Obesity Reviews   \n",
       "2100                             Statistics in Medicine   \n",
       "2101                                         Stem Cells   \n",
       "2102                                            Synapse   \n",
       "2103               The European Journal of Neuroscience   \n",
       "2104                                            Traffic   \n",
       "2105                                            Traffic   \n",
       "2106                         Zoonoses and Public Health   \n",
       "2107                American Journal of Transplantation   \n",
       "2108                                 Angew chems Int Ed   \n",
       "2109                                        CHEMBIOCHEM   \n",
       "2110                                        Chemmedchem   \n",
       "2111                                        Chemmedchem   \n",
       "2112                                        ChemMedChem   \n",
       "2113                                          Protemics   \n",
       "2114                   Journal of Small Animal Practice   \n",
       "2115                                               AIDS   \n",
       "2116                                       AIDS Journal   \n",
       "2117                                            AIDS UK   \n",
       "2118                                            AIDS UK   \n",
       "2119  JAIDS Journal of Acquired Immune Deficiency Sy...   \n",
       "2120  Journal of Acquired Immune Deficiency Syndroms...   \n",
       "2121                                    Journal of Aids   \n",
       "2122                               Circulation Research   \n",
       "2123                                               AIDS   \n",
       "2124                               Pediatr Infect Dis J   \n",
       "2125                                               AIDS   \n",
       "2126    Journal of Acquired Immune Deficiency Syndromes   \n",
       "\n",
       "                                          Article title  \\\n",
       "0     Reduced parahippocampal cortical thickness in ...   \n",
       "1     Structural characterization of a Model Gram-ne...   \n",
       "2     Fumaroylamino-4,5-epoxymorphinans and related ...   \n",
       "3     Orvinols with mixed kappa/mu opioid receptor a...   \n",
       "4     Regioselective opening of myo-inositol orthoes...   \n",
       "5     Comparative Structural and Functional Studies ...   \n",
       "6     Mapping Proteolytic Processing in the Secretom...   \n",
       "7     Quantitative silencing of EGFP reporter gene b...   \n",
       "8     A Novel Allosteric Inhibitor of the Uridine Di...   \n",
       "9     Chemical proteomic analysis reveals the drugab...   \n",
       "10    Locating Sweet Spots for Screening Hits and Ev...   \n",
       "11    Synthesis and evaluation of ?-thymidine analog...   \n",
       "12    Discovery and structure-activity relationships...   \n",
       "13    Monomeric 14-3-3 has a chaperone-like activity...   \n",
       "14    Synthesis and in vitro and in vivo characteriz...   \n",
       "15    Much of the genetic risk of colorectal cancer ...   \n",
       "16                  Annexin-1 interaction with FPR2/ALX   \n",
       "17    Sialoadhesin ligand expression identifies a su...   \n",
       "18    Regulation of Foxp3+ Inducible Regulatory T Ce...   \n",
       "19    Discovery of an allosteric inhibitor binding s...   \n",
       "20    Synthesis of alpha-glucan in mycobacteria invo...   \n",
       "21    Discovery of ?2 Adrenergic Receptor Ligands Us...   \n",
       "22    Continuous online microdialysis using microflu...   \n",
       "23    HYDROXY-TERMINATED CONJUGATED POLYMER NANOPART...   \n",
       "24    Characterizing the Fatty Acid Binding Site in ...   \n",
       "25    Amphipathic polymers facilitate the study of f...   \n",
       "26    Quantitative dynamics of phosphorproteome: the...   \n",
       "27    Variable-Pitch Rectangular Cross-section Radio...   \n",
       "28    Design, synthesis and functional activity of l...   \n",
       "29    Toward biophysical probes for the 5-HT3 recept...   \n",
       "...                                                 ...   \n",
       "2097  Shigella IpaD has a Dual Role: Signal Transduc...   \n",
       "2098  Does maternal body mass index during pregnancy...   \n",
       "2099  Obesity and socioeconomic status in developing...   \n",
       "2100  Combining multiple imputation and meta-analysi...   \n",
       "2101  Matrix remodelling maintains ESC self-renewal ...   \n",
       "2102  Presynaptic pH and vesicle fusion in Drosophil...   \n",
       "2103  Hyperpolarization-activated ion channels as ta...   \n",
       "2104  Efficient internalization of MHC I requires ly...   \n",
       "2105  Proteomic analysis of clathrin interactions in...   \n",
       "2106  Ecology of zoonotic infectious diseases in bat...   \n",
       "2107  Low dose rapamycin treatment increases the abi...   \n",
       "2108  Design and synthesis of cyclic ADP-4-thioribos...   \n",
       "2109  A Prototypical Small-Molecule Modulator Uncoup...   \n",
       "2110  Structure-Activity Relationship Studies of Pyr...   \n",
       "2111  From On-Target to Off-Target Activity: Identif...   \n",
       "2112  Synthesis and structure-activity relationship ...   \n",
       "2113  Carbon source-induced reprogramming of the cel...   \n",
       "2114  Prevalence, outcome and risk factors for post-...   \n",
       "2115  HIV infected adolescents in Southern Africa ca...   \n",
       "2116  Short title: TB and VL breakthrough and failur...   \n",
       "2117   Sexual behaviour in a rural high HIV prevalence    \n",
       "2118  HIV incidence and survival from age-specific s...   \n",
       "2119  Accelerated biological ageing in HIV-infected ...   \n",
       "2120  Reduction in early mortality on antiretroviral...   \n",
       "2121  Risk factors for seropositivity to Kaposi sarc...   \n",
       "2122  Mechanistic Links Between Na+ Channel (SCN5A) ...   \n",
       "2123  Evaluation of an empiric risk screening score ...   \n",
       "2124  Topical umbilical cord care for prevention of ...   \n",
       "2125  Grassroots Community Organisations' Contributi...   \n",
       "2126  A novel community health worker tool outperfor...   \n",
       "\n",
       "     COST (£) charged to Wellcome (inc VAT when charged)  \n",
       "0                                                 £0.00   \n",
       "1                                              £2381.04   \n",
       "2                                               £642.56   \n",
       "3                                               £669.64   \n",
       "4                                               £685.88   \n",
       "5                                              £2392.20   \n",
       "6                                              £2367.95   \n",
       "7                                               £649.33   \n",
       "8                                              £1294.59   \n",
       "9                                              £1294.78   \n",
       "10                                             £1329.69   \n",
       "11                                             £1287.20   \n",
       "12                                             £1324.66   \n",
       "13                                              £665.64   \n",
       "14                                             £1006.72   \n",
       "15                                              £238.08   \n",
       "16                                              £265.67   \n",
       "17                                             £2035.00   \n",
       "18                                             £3108.08   \n",
       "19                                             £1267.76   \n",
       "20                                             £2286.73   \n",
       "21                                              £947.07   \n",
       "22                                             £1186.80   \n",
       "23                                              £642.89   \n",
       "24                                             £1533.29   \n",
       "25                                             £2082.74   \n",
       "26                                             £2314.10   \n",
       "27                                              £759.67   \n",
       "28                                             £1565.26   \n",
       "29                                              £572.74   \n",
       "...                                                 ...   \n",
       "2097                                           £2236.02   \n",
       "2098                                           £2275.02   \n",
       "2099                                           £2373.57   \n",
       "2100                                            £791.19   \n",
       "2101                                           £1551.49   \n",
       "2102                                           £1961.68   \n",
       "2103                                           £1982.35   \n",
       "2104                                           £2239.22   \n",
       "2105                                           £2377.65   \n",
       "2106                                           £2272.15   \n",
       "2107                                           £1900.70   \n",
       "2108                                           £3026.17   \n",
       "2109                                           £1851.15   \n",
       "2110                                           £1812.89   \n",
       "2111                                           £1816.70   \n",
       "2112                                           £2168.05   \n",
       "2113                                           £1409.96   \n",
       "2114                                           £2400.00   \n",
       "2115                                           £1968.63   \n",
       "2116                                           £2015.72   \n",
       "2117                                           £1836.92   \n",
       "2118                                           £1836.92   \n",
       "2119                                           £1375.80   \n",
       "2120                                           £1836.92   \n",
       "2121                                           £2009.65   \n",
       "2122                                           £1334.15   \n",
       "2123                                           £1834.77   \n",
       "2124                                           £1834.77   \n",
       "2125                                           £2374.52   \n",
       "2126                                           £2034.75   \n",
       "\n",
       "[2127 rows x 5 columns]>"
      ]
     },
     "execution_count": 3,
     "metadata": {},
     "output_type": "execute_result"
    }
   ],
   "source": [
    "df.info"
   ]
  },
  {
   "cell_type": "code",
   "execution_count": 4,
   "metadata": {},
   "outputs": [
    {
     "data": {
      "text/plain": [
       "Index(['PMID/PMCID', 'Publisher', 'Journal title', 'Article title',\n",
       "       'COST (£) charged to Wellcome (inc VAT when charged)'],\n",
       "      dtype='object')"
      ]
     },
     "execution_count": 4,
     "metadata": {},
     "output_type": "execute_result"
    }
   ],
   "source": [
    "df.columns"
   ]
  },
  {
   "cell_type": "code",
   "execution_count": 5,
   "metadata": {},
   "outputs": [],
   "source": [
    "#rename columns\n",
    "df.rename(columns={'PMID/PMCID':'PMID_PMCID'}, inplace = True) \n",
    "df.rename(columns={'Publisher':'publisher'}, inplace = True)\n",
    "df.rename(columns={'Journal title':'journal_title'}, inplace = True) \n",
    "df.rename(columns={'Article title':'Article_title'}, inplace = True) \n",
    "df.rename(columns={'COST (£) charged to Wellcome (inc VAT when charged)':'cost'}, inplace = True) "
   ]
  },
  {
   "cell_type": "code",
   "execution_count": 6,
   "metadata": {},
   "outputs": [
    {
     "data": {
      "text/html": [
       "<div>\n",
       "<style scoped>\n",
       "    .dataframe tbody tr th:only-of-type {\n",
       "        vertical-align: middle;\n",
       "    }\n",
       "\n",
       "    .dataframe tbody tr th {\n",
       "        vertical-align: top;\n",
       "    }\n",
       "\n",
       "    .dataframe thead th {\n",
       "        text-align: right;\n",
       "    }\n",
       "</style>\n",
       "<table border=\"1\" class=\"dataframe\">\n",
       "  <thead>\n",
       "    <tr style=\"text-align: right;\">\n",
       "      <th></th>\n",
       "      <th>PMID_PMCID</th>\n",
       "      <th>publisher</th>\n",
       "      <th>journal_title</th>\n",
       "      <th>Article_title</th>\n",
       "      <th>cost</th>\n",
       "    </tr>\n",
       "  </thead>\n",
       "  <tbody>\n",
       "    <tr>\n",
       "      <th>0</th>\n",
       "      <td>NaN</td>\n",
       "      <td>CUP</td>\n",
       "      <td>Psychological Medicine</td>\n",
       "      <td>Reduced parahippocampal cortical thickness in ...</td>\n",
       "      <td>£0.00</td>\n",
       "    </tr>\n",
       "    <tr>\n",
       "      <th>1</th>\n",
       "      <td>PMC3679557</td>\n",
       "      <td>ACS</td>\n",
       "      <td>Biomacromolecules</td>\n",
       "      <td>Structural characterization of a Model Gram-ne...</td>\n",
       "      <td>£2381.04</td>\n",
       "    </tr>\n",
       "    <tr>\n",
       "      <th>2</th>\n",
       "      <td>23043264  PMC3506128</td>\n",
       "      <td>ACS</td>\n",
       "      <td>J Med Chem</td>\n",
       "      <td>Fumaroylamino-4,5-epoxymorphinans and related ...</td>\n",
       "      <td>£642.56</td>\n",
       "    </tr>\n",
       "    <tr>\n",
       "      <th>3</th>\n",
       "      <td>23438330 PMC3646402</td>\n",
       "      <td>ACS</td>\n",
       "      <td>J Med Chem</td>\n",
       "      <td>Orvinols with mixed kappa/mu opioid receptor a...</td>\n",
       "      <td>£669.64</td>\n",
       "    </tr>\n",
       "    <tr>\n",
       "      <th>4</th>\n",
       "      <td>23438216 PMC3601604</td>\n",
       "      <td>ACS</td>\n",
       "      <td>J Org Chem</td>\n",
       "      <td>Regioselective opening of myo-inositol orthoes...</td>\n",
       "      <td>£685.88</td>\n",
       "    </tr>\n",
       "  </tbody>\n",
       "</table>\n",
       "</div>"
      ],
      "text/plain": [
       "              PMID_PMCID publisher           journal_title  \\\n",
       "0                    NaN       CUP  Psychological Medicine   \n",
       "1             PMC3679557       ACS       Biomacromolecules   \n",
       "2  23043264  PMC3506128        ACS              J Med Chem   \n",
       "3    23438330 PMC3646402       ACS              J Med Chem   \n",
       "4   23438216 PMC3601604        ACS              J Org Chem   \n",
       "\n",
       "                                       Article_title      cost  \n",
       "0  Reduced parahippocampal cortical thickness in ...     £0.00  \n",
       "1  Structural characterization of a Model Gram-ne...  £2381.04  \n",
       "2  Fumaroylamino-4,5-epoxymorphinans and related ...   £642.56  \n",
       "3  Orvinols with mixed kappa/mu opioid receptor a...   £669.64  \n",
       "4  Regioselective opening of myo-inositol orthoes...   £685.88  "
      ]
     },
     "execution_count": 6,
     "metadata": {},
     "output_type": "execute_result"
    }
   ],
   "source": [
    "df.head()"
   ]
  },
  {
   "cell_type": "code",
   "execution_count": 7,
   "metadata": {},
   "outputs": [
    {
     "data": {
      "text/plain": [
       "PMID_PMCID       object\n",
       "publisher        object\n",
       "journal_title    object\n",
       "Article_title    object\n",
       "cost             object\n",
       "dtype: object"
      ]
     },
     "execution_count": 7,
     "metadata": {},
     "output_type": "execute_result"
    }
   ],
   "source": [
    "df.dtypes"
   ]
  },
  {
   "cell_type": "code",
   "execution_count": 8,
   "metadata": {
    "scrolled": false
   },
   "outputs": [
    {
     "data": {
      "text/plain": [
       "PMID_PMCID       0.103216\n",
       "publisher        0.000000\n",
       "journal_title    0.000470\n",
       "Article_title    0.000000\n",
       "cost             0.000000\n",
       "dtype: float64"
      ]
     },
     "execution_count": 8,
     "metadata": {},
     "output_type": "execute_result"
    }
   ],
   "source": [
    "df.isnull().sum()/df.count()"
   ]
  },
  {
   "cell_type": "code",
   "execution_count": 9,
   "metadata": {
    "scrolled": true
   },
   "outputs": [],
   "source": [
    "df['journal_title'] = df['journal_title'].replace(np.nan, '', regex=True)"
   ]
  },
  {
   "cell_type": "code",
   "execution_count": 10,
   "metadata": {
    "scrolled": true
   },
   "outputs": [
    {
     "data": {
      "text/plain": [
       "False    2127\n",
       "Name: journal_title, dtype: int64"
      ]
     },
     "execution_count": 10,
     "metadata": {},
     "output_type": "execute_result"
    }
   ],
   "source": [
    "df['journal_title'].isnull().value_counts()"
   ]
  },
  {
   "cell_type": "markdown",
   "metadata": {},
   "source": [
    "### 1. Determine the five most common journals and the total articles for each."
   ]
  },
  {
   "cell_type": "code",
   "execution_count": 11,
   "metadata": {},
   "outputs": [
    {
     "data": {
      "text/plain": [
       "985"
      ]
     },
     "execution_count": 11,
     "metadata": {},
     "output_type": "execute_result"
    }
   ],
   "source": [
    "df['journal_title'].nunique()"
   ]
  },
  {
   "cell_type": "code",
   "execution_count": 12,
   "metadata": {
    "scrolled": false
   },
   "outputs": [
    {
     "data": {
      "text/plain": [
       "PLoS One                                                      92\n",
       "PLoS ONE                                                      62\n",
       "Journal of Biological Chemistry                               48\n",
       "Nucleic Acids Research                                        21\n",
       "Proceedings of the National Academy of Sciences               19\n",
       "Human Molecular Genetics                                      18\n",
       "PLoS Neglected Tropical Diseases                              18\n",
       "Nature Communications                                         17\n",
       "PLoS Pathogens                                                15\n",
       "PLoS Genetics                                                 15\n",
       "Neuroimage                                                    15\n",
       "NeuroImage                                                    14\n",
       "PLOS ONE                                                      14\n",
       "BMC Public Health                                             14\n",
       "Brain                                                         14\n",
       "Movement Disorders                                            13\n",
       "Journal of Neuroscience                                       12\n",
       "Developmental Cell                                            12\n",
       "Biochemical Journal                                           12\n",
       "Journal of General Virology                                   11\n",
       "Current Biology                                               10\n",
       "PLOS One                                                      10\n",
       "BMJ                                                           10\n",
       "Cell Reports                                                   9\n",
       "Neuron                                                         9\n",
       "Journal of Physiology                                          8\n",
       "Journal of Structural Biology                                  8\n",
       "Journal of Cell Science                                        8\n",
       "Molecular Microbiology                                         8\n",
       "Development                                                    8\n",
       "                                                              ..\n",
       "The Journal of investigative dermatology                       1\n",
       "Cancer Research                                                1\n",
       "Journal of Nutrition                                           1\n",
       "BMC Medical Genetics                                           1\n",
       "Seminars in Immunopathology                                    1\n",
       "BMC Neurology                                                  1\n",
       "International Journal of Stroke                                1\n",
       "Health Psychology                                              1\n",
       "English Studies                                                1\n",
       "IJTLD                                                          1\n",
       "GENE                                                           1\n",
       "HBM JNL Human Brain Mapping                                    1\n",
       "JAIDS Journal of Acquired Immune Deficiency Syndromes          1\n",
       "Journal of Autism and Developmental Disorders                  1\n",
       "Trends in Microbiology                                         1\n",
       "Zoonoses and Public Health                                     1\n",
       "Frontiers in Immunological Memory                              1\n",
       "BMC Genomics.                                                  1\n",
       "RESPIRATORY RESEARCH                                           1\n",
       "Journal of Cerebral Blood Flow and Metabolism                  1\n",
       "PLOS  ONE                                                      1\n",
       "International Journal of Geriatric Psychiatry                  1\n",
       "European Journal of cell Biology                               1\n",
       "Cell Adhesion and Migration                                    1\n",
       "Journal of Molecular Endocrinology                             1\n",
       "Frontiers in Developmental Psychology                          1\n",
       "Neurobiology of Disease                                        1\n",
       "Journal of Orthopedic Research                                 1\n",
       "Jounral of Clinical Microbiology                               1\n",
       "Biochimica et Bioohysica Acta - Molecular Basis of Disease     1\n",
       "Name: journal_title, Length: 985, dtype: int64"
      ]
     },
     "execution_count": 12,
     "metadata": {},
     "output_type": "execute_result"
    }
   ],
   "source": [
    "df['journal_title'].value_counts()"
   ]
  },
  {
   "cell_type": "code",
   "execution_count": 13,
   "metadata": {
    "scrolled": false
   },
   "outputs": [],
   "source": [
    "# Convert all strings to lower case so related titles are counted together.\n",
    "\n",
    "df['journal_lower'] = df['journal_title'].str.lower()"
   ]
  },
  {
   "cell_type": "code",
   "execution_count": 14,
   "metadata": {},
   "outputs": [
    {
     "data": {
      "text/plain": [
       "plos one                                                                            190\n",
       "journal of biological chemistry                                                      53\n",
       "neuroimage                                                                           29\n",
       "plos pathogens                                                                       24\n",
       "plos genetics                                                                        24\n",
       "nucleic acids research                                                               23\n",
       "proceedings of the national academy of sciences                                      20\n",
       "plos neglected tropical diseases                                                     20\n",
       "human molecular genetics                                                             19\n",
       "nature communications                                                                19\n",
       "brain                                                                                14\n",
       "bmc public health                                                                    14\n",
       "movement disorders                                                                   13\n",
       "biochemical journal                                                                  12\n",
       "developmental cell                                                                   12\n",
       "journal of neuroscience                                                              12\n",
       "journal of general virology                                                          11\n",
       "current biology                                                                      11\n",
       "bmj                                                                                  10\n",
       "bmj open                                                                              9\n",
       "neuron                                                                                9\n",
       "plosone                                                                               9\n",
       "plos computational biology                                                            9\n",
       "cell reports                                                                          9\n",
       "hepatology                                                                            8\n",
       "proceedings of the royal society b: biological sciences                               8\n",
       "journal of clinical endocrinology and metabolism                                      8\n",
       "journal of virology                                                                   8\n",
       "molecular microbiology                                                                8\n",
       "journal of physiology                                                                 8\n",
       "                                                                                   ... \n",
       "evaluation in clinical practice                                                       1\n",
       "journal of family psychology                                                          1\n",
       "emotion                                                                               1\n",
       "english studies                                                                       1\n",
       "international journal for parasitology                                                1\n",
       "inflammation research                                                                 1\n",
       "experimental eye research                                                             1\n",
       "proceedings of the national academy of sciences of the united states of america       1\n",
       "jounral of clinical microbiology                                                      1\n",
       "journal of sleep research                                                             1\n",
       "j cardiovasc magn reson                                                               1\n",
       "heptology                                                                             1\n",
       "the vet. journal                                                                      1\n",
       "biologicial chemistry                                                                 1\n",
       "studies in history and philosophy of science part c                                   1\n",
       "journal of clinical microbiology                                                      1\n",
       "biosystems                                                                            1\n",
       "hbm jnl human brain mapping                                                           1\n",
       "j med internet research                                                               1\n",
       "cell death differentiation                                                            1\n",
       "cell journal                                                                          1\n",
       "theranostics                                                                          1\n",
       "international journal of developmental biology                                        1\n",
       "proc natl acad sci u s a.                                                             1\n",
       "acta d                                                                                1\n",
       "public library of science one                                                         1\n",
       "angewandte chemie                                                                     1\n",
       "american journal of medical genetics                                                  1\n",
       "cytoskeleton                                                                          1\n",
       "                                                                                      1\n",
       "Name: journal_lower, Length: 929, dtype: int64"
      ]
     },
     "execution_count": 14,
     "metadata": {},
     "output_type": "execute_result"
    }
   ],
   "source": [
    "df['journal_lower'].value_counts()"
   ]
  },
  {
   "cell_type": "code",
   "execution_count": 15,
   "metadata": {},
   "outputs": [
    {
     "data": {
      "text/plain": [
       "33"
      ]
     },
     "execution_count": 15,
     "metadata": {},
     "output_type": "execute_result"
    }
   ],
   "source": [
    "# create DataFrame with short journal title names or acronyms, to check if they coincide with full name titles\n",
    "\n",
    "short = df[(df['journal_lower'].apply(lambda x: len(x)<7))]\n",
    "short['journal_lower'].nunique()"
   ]
  },
  {
   "cell_type": "code",
   "execution_count": 16,
   "metadata": {
    "scrolled": true
   },
   "outputs": [
    {
     "data": {
      "text/plain": [
       "brain     14\n",
       "bmj       10\n",
       "neuron     9\n",
       "plos 1     7\n",
       "blood      7\n",
       "cortex     6\n",
       "pnas       6\n",
       "cell       5\n",
       "pain       4\n",
       "trials     4\n",
       "plos       4\n",
       "bone       3\n",
       "gut        3\n",
       "aids       3\n",
       "gene       3\n",
       "thorax     2\n",
       "rna        2\n",
       "mbio       2\n",
       "glia       2\n",
       "age        2\n",
       "lancet     1\n",
       "jerph      1\n",
       "embo       1\n",
       "chest      1\n",
       "acta f     1\n",
       "hernia     1\n",
       "pntd       1\n",
       "hpb        1\n",
       "bjp        1\n",
       "heart      1\n",
       "ijtld      1\n",
       "acta d     1\n",
       "           1\n",
       "Name: journal_lower, dtype: int64"
      ]
     },
     "execution_count": 16,
     "metadata": {},
     "output_type": "execute_result"
    }
   ],
   "source": [
    "short['journal_lower'].value_counts()"
   ]
  },
  {
   "cell_type": "code",
   "execution_count": 17,
   "metadata": {},
   "outputs": [
    {
     "data": {
      "text/html": [
       "<div>\n",
       "<style scoped>\n",
       "    .dataframe tbody tr th:only-of-type {\n",
       "        vertical-align: middle;\n",
       "    }\n",
       "\n",
       "    .dataframe tbody tr th {\n",
       "        vertical-align: top;\n",
       "    }\n",
       "\n",
       "    .dataframe thead th {\n",
       "        text-align: right;\n",
       "    }\n",
       "</style>\n",
       "<table border=\"1\" class=\"dataframe\">\n",
       "  <thead>\n",
       "    <tr style=\"text-align: right;\">\n",
       "      <th></th>\n",
       "      <th>PMID_PMCID</th>\n",
       "      <th>publisher</th>\n",
       "      <th>journal_title</th>\n",
       "      <th>Article_title</th>\n",
       "      <th>cost</th>\n",
       "      <th>journal_lower</th>\n",
       "    </tr>\n",
       "  </thead>\n",
       "  <tbody>\n",
       "  </tbody>\n",
       "</table>\n",
       "</div>"
      ],
      "text/plain": [
       "Empty DataFrame\n",
       "Columns: [PMID_PMCID, publisher, journal_title, Article_title, cost, journal_lower]\n",
       "Index: []"
      ]
     },
     "execution_count": 17,
     "metadata": {},
     "output_type": "execute_result"
    }
   ],
   "source": [
    "# Check whether other top journals have matching acronym entries. (returns empty set)\n",
    "\n",
    "other_acr = df[(df['journal_lower'].isin(['jbc','nar', 'hmg']))]\n",
    "other_acr"
   ]
  },
  {
   "cell_type": "code",
   "execution_count": 18,
   "metadata": {},
   "outputs": [],
   "source": [
    "# Combine all journals related to Plos One.\n",
    "\n",
    "df['journal_lower'].replace('plosone','plos one', inplace = True)\n",
    "df['journal_lower'].replace('plos 1', 'plos one', inplace = True)"
   ]
  },
  {
   "cell_type": "code",
   "execution_count": 19,
   "metadata": {},
   "outputs": [
    {
     "data": {
      "text/plain": [
       "plos one                                                   206\n",
       "journal of biological chemistry                             53\n",
       "neuroimage                                                  29\n",
       "plos genetics                                               24\n",
       "plos pathogens                                              24\n",
       "nucleic acids research                                      23\n",
       "plos neglected tropical diseases                            20\n",
       "proceedings of the national academy of sciences             20\n",
       "human molecular genetics                                    19\n",
       "nature communications                                       19\n",
       "bmc public health                                           14\n",
       "brain                                                       14\n",
       "movement disorders                                          13\n",
       "developmental cell                                          12\n",
       "biochemical journal                                         12\n",
       "journal of neuroscience                                     12\n",
       "journal of general virology                                 11\n",
       "current biology                                             11\n",
       "bmj                                                         10\n",
       "plos computational biology                                   9\n",
       "cell reports                                                 9\n",
       "neuron                                                       9\n",
       "bmj open                                                     9\n",
       "journal of physiology                                        8\n",
       "development                                                  8\n",
       "journal of virology                                          8\n",
       "european journal of immunology                               8\n",
       "molecular microbiology                                       8\n",
       "proceedings of the royal society b: biological sciences      8\n",
       "neurobiology of aging                                        8\n",
       "                                                          ... \n",
       "neurodegenerative diseases                                   1\n",
       "evaluation in clinical practice                              1\n",
       "journal of family psychology                                 1\n",
       "emotion                                                      1\n",
       "english studies                                              1\n",
       "international journal for parasitology                       1\n",
       "inflammation research                                        1\n",
       "jounral of clinical microbiology                             1\n",
       "journal of sleep research                                    1\n",
       "cell journal                                                 1\n",
       "j med internet research                                      1\n",
       "expert reviews in anti-infective chemotherapy                1\n",
       "heptology                                                    1\n",
       "the vet. journal                                             1\n",
       "biologicial chemistry                                        1\n",
       "studies in history and philosophy of science part c          1\n",
       "journal of clinical microbiology                             1\n",
       "biosystems                                                   1\n",
       "hbm jnl human brain mapping                                  1\n",
       "j cardiovasc magn reson                                      1\n",
       "cytoskeleton                                                 1\n",
       "cell death differentiation                                   1\n",
       "theranostics                                                 1\n",
       "international journal of developmental biology               1\n",
       "proc natl acad sci u s a.                                    1\n",
       "acta d                                                       1\n",
       "public library of science one                                1\n",
       "angewandte chemie                                            1\n",
       "american journal of medical genetics                         1\n",
       "                                                             1\n",
       "Name: journal_lower, Length: 927, dtype: int64"
      ]
     },
     "execution_count": 19,
     "metadata": {},
     "output_type": "execute_result"
    }
   ],
   "source": [
    "df['journal_lower'].value_counts()"
   ]
  },
  {
   "cell_type": "code",
   "execution_count": 20,
   "metadata": {},
   "outputs": [
    {
     "data": {
      "text/html": [
       "<div>\n",
       "<style scoped>\n",
       "    .dataframe tbody tr th:only-of-type {\n",
       "        vertical-align: middle;\n",
       "    }\n",
       "\n",
       "    .dataframe tbody tr th {\n",
       "        vertical-align: top;\n",
       "    }\n",
       "\n",
       "    .dataframe thead th {\n",
       "        text-align: right;\n",
       "    }\n",
       "</style>\n",
       "<table border=\"1\" class=\"dataframe\">\n",
       "  <thead>\n",
       "    <tr style=\"text-align: right;\">\n",
       "      <th></th>\n",
       "      <th>PMID_PMCID</th>\n",
       "      <th>publisher</th>\n",
       "      <th>journal_title</th>\n",
       "      <th>Article_title</th>\n",
       "      <th>cost</th>\n",
       "      <th>journal_lower</th>\n",
       "    </tr>\n",
       "  </thead>\n",
       "  <tbody>\n",
       "    <tr>\n",
       "      <th>0</th>\n",
       "      <td>NaN</td>\n",
       "      <td>CUP</td>\n",
       "      <td>Psychological Medicine</td>\n",
       "      <td>Reduced parahippocampal cortical thickness in ...</td>\n",
       "      <td>£0.00</td>\n",
       "      <td>psychological medicine</td>\n",
       "    </tr>\n",
       "    <tr>\n",
       "      <th>1</th>\n",
       "      <td>PMC3679557</td>\n",
       "      <td>ACS</td>\n",
       "      <td>Biomacromolecules</td>\n",
       "      <td>Structural characterization of a Model Gram-ne...</td>\n",
       "      <td>£2381.04</td>\n",
       "      <td>biomacromolecules</td>\n",
       "    </tr>\n",
       "    <tr>\n",
       "      <th>2</th>\n",
       "      <td>23043264  PMC3506128</td>\n",
       "      <td>ACS</td>\n",
       "      <td>J Med Chem</td>\n",
       "      <td>Fumaroylamino-4,5-epoxymorphinans and related ...</td>\n",
       "      <td>£642.56</td>\n",
       "      <td>j med chem</td>\n",
       "    </tr>\n",
       "    <tr>\n",
       "      <th>3</th>\n",
       "      <td>23438330 PMC3646402</td>\n",
       "      <td>ACS</td>\n",
       "      <td>J Med Chem</td>\n",
       "      <td>Orvinols with mixed kappa/mu opioid receptor a...</td>\n",
       "      <td>£669.64</td>\n",
       "      <td>j med chem</td>\n",
       "    </tr>\n",
       "    <tr>\n",
       "      <th>4</th>\n",
       "      <td>23438216 PMC3601604</td>\n",
       "      <td>ACS</td>\n",
       "      <td>J Org Chem</td>\n",
       "      <td>Regioselective opening of myo-inositol orthoes...</td>\n",
       "      <td>£685.88</td>\n",
       "      <td>j org chem</td>\n",
       "    </tr>\n",
       "  </tbody>\n",
       "</table>\n",
       "</div>"
      ],
      "text/plain": [
       "              PMID_PMCID publisher           journal_title  \\\n",
       "0                    NaN       CUP  Psychological Medicine   \n",
       "1             PMC3679557       ACS       Biomacromolecules   \n",
       "2  23043264  PMC3506128        ACS              J Med Chem   \n",
       "3    23438330 PMC3646402       ACS              J Med Chem   \n",
       "4   23438216 PMC3601604        ACS              J Org Chem   \n",
       "\n",
       "                                       Article_title      cost  \\\n",
       "0  Reduced parahippocampal cortical thickness in ...     £0.00   \n",
       "1  Structural characterization of a Model Gram-ne...  £2381.04   \n",
       "2  Fumaroylamino-4,5-epoxymorphinans and related ...   £642.56   \n",
       "3  Orvinols with mixed kappa/mu opioid receptor a...   £669.64   \n",
       "4  Regioselective opening of myo-inositol orthoes...   £685.88   \n",
       "\n",
       "            journal_lower  \n",
       "0  psychological medicine  \n",
       "1       biomacromolecules  \n",
       "2              j med chem  \n",
       "3              j med chem  \n",
       "4              j org chem  "
      ]
     },
     "execution_count": 20,
     "metadata": {},
     "output_type": "execute_result"
    }
   ],
   "source": [
    "df.head()"
   ]
  },
  {
   "cell_type": "code",
   "execution_count": 21,
   "metadata": {},
   "outputs": [
    {
     "data": {
      "text/plain": [
       "dtype('O')"
      ]
     },
     "execution_count": 21,
     "metadata": {},
     "output_type": "execute_result"
    }
   ],
   "source": [
    "df.cost.dtype"
   ]
  },
  {
   "cell_type": "code",
   "execution_count": 22,
   "metadata": {},
   "outputs": [],
   "source": [
    "# Strip out '£' and '$' signs and convert cost to numeric values.\n",
    "\n",
    "df['cost'] = (df['cost'].str.strip('£'))"
   ]
  },
  {
   "cell_type": "code",
   "execution_count": 23,
   "metadata": {},
   "outputs": [],
   "source": [
    "for i, cost in enumerate(df.cost):\n",
    "    if '$' in cost:\n",
    "        cost = float(cost.replace('$',''))\n",
    "        cost = cost * 0.71\n",
    "        df.cost[i] = cost"
   ]
  },
  {
   "cell_type": "code",
   "execution_count": 24,
   "metadata": {},
   "outputs": [],
   "source": [
    "df.cost = df.cost.apply(pd.to_numeric, errors='coerce')"
   ]
  },
  {
   "cell_type": "code",
   "execution_count": 25,
   "metadata": {
    "scrolled": true
   },
   "outputs": [
    {
     "data": {
      "text/html": [
       "<div>\n",
       "<style scoped>\n",
       "    .dataframe tbody tr th:only-of-type {\n",
       "        vertical-align: middle;\n",
       "    }\n",
       "\n",
       "    .dataframe tbody tr th {\n",
       "        vertical-align: top;\n",
       "    }\n",
       "\n",
       "    .dataframe thead th {\n",
       "        text-align: right;\n",
       "    }\n",
       "</style>\n",
       "<table border=\"1\" class=\"dataframe\">\n",
       "  <thead>\n",
       "    <tr style=\"text-align: right;\">\n",
       "      <th></th>\n",
       "      <th>PMID_PMCID</th>\n",
       "      <th>publisher</th>\n",
       "      <th>journal_title</th>\n",
       "      <th>Article_title</th>\n",
       "      <th>cost</th>\n",
       "      <th>journal_lower</th>\n",
       "    </tr>\n",
       "  </thead>\n",
       "  <tbody>\n",
       "    <tr>\n",
       "      <th>181</th>\n",
       "      <td>PMC2843621</td>\n",
       "      <td>BioMed Central</td>\n",
       "      <td>BMC Genomics</td>\n",
       "      <td>Trichomonas vaginalis vast BspA-like gene fami...</td>\n",
       "      <td>855.1098</td>\n",
       "      <td>bmc genomics</td>\n",
       "    </tr>\n",
       "    <tr>\n",
       "      <th>182</th>\n",
       "      <td>PMCID:\\n    PMC3636053</td>\n",
       "      <td>BioMed Central</td>\n",
       "      <td>BMC Genomics</td>\n",
       "      <td>Enhancing the utility of Proteomics Signature ...</td>\n",
       "      <td>890.7660</td>\n",
       "      <td>bmc genomics</td>\n",
       "    </tr>\n",
       "    <tr>\n",
       "      <th>183</th>\n",
       "      <td>3526451</td>\n",
       "      <td>Biomed Central</td>\n",
       "      <td>BMC Genomics</td>\n",
       "      <td>Advances in genome-wide RNAi cellular screens:...</td>\n",
       "      <td>1047.9600</td>\n",
       "      <td>bmc genomics</td>\n",
       "    </tr>\n",
       "    <tr>\n",
       "      <th>226</th>\n",
       "      <td>3681581</td>\n",
       "      <td>BioMed Central</td>\n",
       "      <td>BMC Genomics</td>\n",
       "      <td>Transcriptional adaptation of pneumococci and ...</td>\n",
       "      <td>608.5200</td>\n",
       "      <td>bmc genomics</td>\n",
       "    </tr>\n",
       "  </tbody>\n",
       "</table>\n",
       "</div>"
      ],
      "text/plain": [
       "                 PMID_PMCID        publisher journal_title  \\\n",
       "181              PMC2843621   BioMed Central  BMC Genomics   \n",
       "182  PMCID:\\n    PMC3636053   BioMed Central  BMC Genomics   \n",
       "183                 3526451   Biomed Central  BMC Genomics   \n",
       "226                 3681581  BioMed Central   BMC Genomics   \n",
       "\n",
       "                                         Article_title       cost  \\\n",
       "181  Trichomonas vaginalis vast BspA-like gene fami...   855.1098   \n",
       "182  Enhancing the utility of Proteomics Signature ...   890.7660   \n",
       "183  Advances in genome-wide RNAi cellular screens:...  1047.9600   \n",
       "226  Transcriptional adaptation of pneumococci and ...   608.5200   \n",
       "\n",
       "    journal_lower  \n",
       "181  bmc genomics  \n",
       "182  bmc genomics  \n",
       "183  bmc genomics  \n",
       "226  bmc genomics  "
      ]
     },
     "execution_count": 25,
     "metadata": {},
     "output_type": "execute_result"
    }
   ],
   "source": [
    "#  Quick check to see if $ was stripped.  It was.\n",
    "\n",
    "df.loc[df.journal_title == 'BMC Genomics']"
   ]
  },
  {
   "cell_type": "code",
   "execution_count": 26,
   "metadata": {},
   "outputs": [
    {
     "data": {
      "text/plain": [
       "dtype('float64')"
      ]
     },
     "execution_count": 26,
     "metadata": {},
     "output_type": "execute_result"
    }
   ],
   "source": [
    "df.cost.dtype"
   ]
  },
  {
   "cell_type": "code",
   "execution_count": 27,
   "metadata": {
    "scrolled": false
   },
   "outputs": [
    {
     "data": {
      "text/plain": [
       "PMID_PMCID        object\n",
       "publisher         object\n",
       "journal_title     object\n",
       "Article_title     object\n",
       "cost             float64\n",
       "journal_lower     object\n",
       "dtype: object"
      ]
     },
     "execution_count": 27,
     "metadata": {},
     "output_type": "execute_result"
    }
   ],
   "source": [
    "df.dtypes"
   ]
  },
  {
   "cell_type": "markdown",
   "metadata": {},
   "source": [
    "### Here are the five most common journals and the total articles for each."
   ]
  },
  {
   "cell_type": "code",
   "execution_count": 28,
   "metadata": {
    "scrolled": true
   },
   "outputs": [
    {
     "data": {
      "text/plain": [
       "journal_lower\n",
       "plos one                           206\n",
       "journal of biological chemistry     53\n",
       "neuroimage                          29\n",
       "plos pathogens                      24\n",
       "plos genetics                       24\n",
       "Name: journal_title, dtype: int64"
      ]
     },
     "execution_count": 28,
     "metadata": {},
     "output_type": "execute_result"
    }
   ],
   "source": [
    "five = df.groupby(['journal_lower']).count()\n",
    "five['journal_title'].sort_values(ascending=False).head(5)"
   ]
  },
  {
   "cell_type": "markdown",
   "metadata": {},
   "source": [
    "### 2. Calculate the mean, median, and standard deviation of the open-access cost per article for each journal "
   ]
  },
  {
   "cell_type": "code",
   "execution_count": 29,
   "metadata": {},
   "outputs": [
    {
     "name": "stdout",
     "output_type": "stream",
     "text": [
      "999999.0\n",
      "float64\n"
     ]
    }
   ],
   "source": [
    "print(df.cost.max())\n",
    "print(df.cost.max().dtype)"
   ]
  },
  {
   "cell_type": "code",
   "execution_count": 30,
   "metadata": {},
   "outputs": [],
   "source": [
    "df2 = df[df['cost'] < 15000]  "
   ]
  },
  {
   "cell_type": "code",
   "execution_count": 31,
   "metadata": {},
   "outputs": [
    {
     "data": {
      "text/html": [
       "<div>\n",
       "<style scoped>\n",
       "    .dataframe tbody tr th:only-of-type {\n",
       "        vertical-align: middle;\n",
       "    }\n",
       "\n",
       "    .dataframe tbody tr th {\n",
       "        vertical-align: top;\n",
       "    }\n",
       "\n",
       "    .dataframe thead th {\n",
       "        text-align: right;\n",
       "    }\n",
       "</style>\n",
       "<table border=\"1\" class=\"dataframe\">\n",
       "  <thead>\n",
       "    <tr style=\"text-align: right;\">\n",
       "      <th></th>\n",
       "      <th>PMID_PMCID</th>\n",
       "      <th>publisher</th>\n",
       "      <th>journal_title</th>\n",
       "      <th>Article_title</th>\n",
       "      <th>cost</th>\n",
       "      <th>journal_lower</th>\n",
       "    </tr>\n",
       "  </thead>\n",
       "  <tbody>\n",
       "  </tbody>\n",
       "</table>\n",
       "</div>"
      ],
      "text/plain": [
       "Empty DataFrame\n",
       "Columns: [PMID_PMCID, publisher, journal_title, Article_title, cost, journal_lower]\n",
       "Index: []"
      ]
     },
     "execution_count": 31,
     "metadata": {},
     "output_type": "execute_result"
    }
   ],
   "source": [
    "df2[df2['cost'] > 15000]"
   ]
  },
  {
   "cell_type": "code",
   "execution_count": 32,
   "metadata": {},
   "outputs": [
    {
     "data": {
      "text/html": [
       "<div>\n",
       "<style scoped>\n",
       "    .dataframe tbody tr th:only-of-type {\n",
       "        vertical-align: middle;\n",
       "    }\n",
       "\n",
       "    .dataframe tbody tr th {\n",
       "        vertical-align: top;\n",
       "    }\n",
       "\n",
       "    .dataframe thead th {\n",
       "        text-align: right;\n",
       "    }\n",
       "</style>\n",
       "<table border=\"1\" class=\"dataframe\">\n",
       "  <thead>\n",
       "    <tr style=\"text-align: right;\">\n",
       "      <th></th>\n",
       "      <th>journal_lower</th>\n",
       "      <th>count</th>\n",
       "      <th>mean</th>\n",
       "      <th>median</th>\n",
       "      <th>std</th>\n",
       "    </tr>\n",
       "  </thead>\n",
       "  <tbody>\n",
       "    <tr>\n",
       "      <th>764</th>\n",
       "      <td>plos one</td>\n",
       "      <td>197</td>\n",
       "      <td>935.410964</td>\n",
       "      <td>896.990</td>\n",
       "      <td>195.369314</td>\n",
       "    </tr>\n",
       "    <tr>\n",
       "      <th>506</th>\n",
       "      <td>journal of biological chemistry</td>\n",
       "      <td>52</td>\n",
       "      <td>1423.588462</td>\n",
       "      <td>1301.140</td>\n",
       "      <td>411.954360</td>\n",
       "    </tr>\n",
       "    <tr>\n",
       "      <th>694</th>\n",
       "      <td>neuroimage</td>\n",
       "      <td>29</td>\n",
       "      <td>2215.168276</td>\n",
       "      <td>2326.430</td>\n",
       "      <td>266.653947</td>\n",
       "    </tr>\n",
       "    <tr>\n",
       "      <th>719</th>\n",
       "      <td>nucleic acids research</td>\n",
       "      <td>23</td>\n",
       "      <td>1169.217391</td>\n",
       "      <td>852.000</td>\n",
       "      <td>454.329372</td>\n",
       "    </tr>\n",
       "    <tr>\n",
       "      <th>765</th>\n",
       "      <td>plos pathogens</td>\n",
       "      <td>22</td>\n",
       "      <td>1452.277700</td>\n",
       "      <td>1439.225</td>\n",
       "      <td>279.871212</td>\n",
       "    </tr>\n",
       "  </tbody>\n",
       "</table>\n",
       "</div>"
      ],
      "text/plain": [
       "                       journal_lower  count         mean    median         std\n",
       "764                         plos one    197   935.410964   896.990  195.369314\n",
       "506  journal of biological chemistry     52  1423.588462  1301.140  411.954360\n",
       "694                       neuroimage     29  2215.168276  2326.430  266.653947\n",
       "719           nucleic acids research     23  1169.217391   852.000  454.329372\n",
       "765                   plos pathogens     22  1452.277700  1439.225  279.871212"
      ]
     },
     "execution_count": 32,
     "metadata": {},
     "output_type": "execute_result"
    }
   ],
   "source": [
    "topfive = df2.groupby(['journal_lower'])['cost'].agg(['count', 'mean', 'median','std']).reset_index()\n",
    "topfive_sorted = topfive.sort_values(['count'], ascending=False)\n",
    "topfive_sorted.head()"
   ]
  },
  {
   "cell_type": "code",
   "execution_count": null,
   "metadata": {},
   "outputs": [],
   "source": []
  }
 ],
 "metadata": {
  "kernelspec": {
   "display_name": "Python 3",
   "language": "python",
   "name": "python3"
  },
  "language_info": {
   "codemirror_mode": {
    "name": "ipython",
    "version": 3
   },
   "file_extension": ".py",
   "mimetype": "text/x-python",
   "name": "python",
   "nbconvert_exporter": "python",
   "pygments_lexer": "ipython3",
   "version": "3.6.4"
  }
 },
 "nbformat": 4,
 "nbformat_minor": 2
}
