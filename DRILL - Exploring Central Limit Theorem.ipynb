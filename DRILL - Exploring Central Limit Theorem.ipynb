{
 "cells": [
  {
   "cell_type": "code",
   "execution_count": 2,
   "metadata": {},
   "outputs": [],
   "source": [
    "# Comparing Groups in a Sample: The Central Limit Theorem in Action"
   ]
  },
  {
   "cell_type": "code",
   "execution_count": 3,
   "metadata": {},
   "outputs": [],
   "source": [
    "import numpy as np\n",
    "import pandas as pd\n",
    "import scipy\n",
    "import matplotlib.pyplot as plt\n",
    "%matplotlib inline"
   ]
  },
  {
   "cell_type": "code",
   "execution_count": 4,
   "metadata": {},
   "outputs": [
    {
     "data": {
      "text/plain": [
       "<function matplotlib.pyplot.show>"
      ]
     },
     "execution_count": 4,
     "metadata": {},
     "output_type": "execute_result"
    },
    {
     "data": {
      "image/png": "[encoded data removed]",
      "text/plain": [
       "<matplotlib.figure.Figure at 0xd2c7430>"
      ]
     },
     "metadata": {},
     "output_type": "display_data"
    }
   ],
   "source": [
    "pop1 = np.random.binomial(10, 0.2, 10000)\n",
    "pop2 = np.random.binomial(10, 0.5, 10000)\n",
    "\n",
    "plt.hist(pop1, alpha=0.5, label='population 1')\n",
    "plt.hist(pop2, alpha=0.5, label='population 2')\n",
    "plt.legend(loc='upper right')\n",
    "plt.show"
   ]
  },
  {
   "cell_type": "code",
   "execution_count": 5,
   "metadata": {},
   "outputs": [
    {
     "data": {
      "image/png": "[encoded data removed]",
      "text/plain": [
       "<matplotlib.figure.Figure at 0xe331d30>"
      ]
     },
     "metadata": {},
     "output_type": "display_data"
    },
    {
     "name": "stdout",
     "output_type": "stream",
     "text": [
      "sample1 mean =  2.22\n",
      "sample2 mean =  5.19\n",
      "sample1 standard deviation =  1.292903708711519\n",
      "sample2 standard deviation =  1.5792086625902229\n",
      "difference between the two sample means =  2.97\n"
     ]
    }
   ],
   "source": [
    "sample1 = np.random.choice(pop1, 100, replace=True)\n",
    "sample2 = np.random.choice(pop2, 100, replace=True)\n",
    "\n",
    "plt.hist(sample1, alpha=0.5, label='sample 1')\n",
    "plt.hist(sample2, alpha=0.5, label='sample 2')\n",
    "plt.legend(loc='upper right')\n",
    "plt.show()\n",
    "\n",
    "print('sample1 mean = ', sample1.mean())\n",
    "print('sample2 mean = ', sample2.mean())\n",
    "print('sample1 standard deviation = ', sample1.std())\n",
    "print('sample2 standard deviation = ', sample2.std())\n",
    "\n",
    "# Compute the difference between the two sample means.\n",
    "diff=sample2.mean() - sample1.mean()\n",
    "print('difference between the two sample means = ', diff)"
   ]
  },
  {
   "cell_type": "code",
   "execution_count": 6,
   "metadata": {},
   "outputs": [
    {
     "name": "stdout",
     "output_type": "stream",
     "text": [
      "14.552006495671105\n"
     ]
    }
   ],
   "source": [
    "size = np.array([len(sample1), len(sample2)])\n",
    "sd = np.array([sample1.std(), sample2.std()])\n",
    "\n",
    "# The squared standard deviations are divided by the sample size and summed, then we take\n",
    "# the square root of the sum. \n",
    "\n",
    "diff_se = (sum(sd ** 2 / size)) ** 0.5\n",
    "\n",
    "#The difference between the means divided by the standard error: T-value.  \n",
    "print(diff/diff_se)"
   ]
  },
  {
   "cell_type": "code",
   "execution_count": 7,
   "metadata": {},
   "outputs": [
    {
     "name": "stdout",
     "output_type": "stream",
     "text": [
      "Ttest_indResult(statistic=14.47906364788668, pvalue=1.5675020411587033e-32)\n"
     ]
    }
   ],
   "source": [
    "from scipy.stats import ttest_ind\n",
    "print(ttest_ind(sample2, sample1, equal_var=False))"
   ]
  },
  {
   "cell_type": "markdown",
   "metadata": {},
   "source": [
    "### Question 1 - What do I expect to happen with samples size changes?\n",
    "### When we increase the sample size from 100 to 1000, I expect the difference between means to decrease.\n",
    "### When we decrease the sample size from 100 to 20, I expect the difference between means to increase."
   ]
  },
  {
   "cell_type": "code",
   "execution_count": 8,
   "metadata": {},
   "outputs": [
    {
     "data": {
      "image/png": "[encoded data removed]",
      "text/plain": [
       "<matplotlib.figure.Figure at 0x10225890>"
      ]
     },
     "metadata": {},
     "output_type": "display_data"
    },
    {
     "name": "stdout",
     "output_type": "stream",
     "text": [
      "sample3 mean =  1.987\n",
      "sample4 mean =  4.933\n",
      "sample3 standard deviation =  1.2941526185114336\n",
      "sample4 standard deviation =  1.6243494082247205\n",
      "difference between the two sample means =  2.9459999999999997\n",
      "the t-statistic and p-value are  Ttest_indResult(statistic=44.83410860488837, pvalue=3.2267970035411164e-300)\n"
     ]
    },
    {
     "data": {
      "image/png": "[encoded data removed]",
      "text/plain": [
       "<matplotlib.figure.Figure at 0xe36cfb0>"
      ]
     },
     "metadata": {},
     "output_type": "display_data"
    },
    {
     "name": "stdout",
     "output_type": "stream",
     "text": [
      "sample5 mean =  1.95\n",
      "sample6 mean =  5.1\n",
      "sample5 standard deviation =  1.499166435056495\n",
      "sample6 standard deviation =  1.8138357147217055\n",
      "difference between the two sample means =  3.1499999999999995\n",
      "the t-statistic and p-value are  Ttest_indResult(statistic=5.834860597660488, pvalue=1.0808044708274936e-06)\n"
     ]
    }
   ],
   "source": [
    "# 1. Increase sample size from 100 to 1000\n",
    "\n",
    "sample3 = np.random.choice(pop1, 1000, replace=True)\n",
    "sample4 = np.random.choice(pop2, 1000, replace=True)\n",
    "\n",
    "plt.subplot(1, 2, 1)\n",
    "plt.hist(sample3, alpha=0.5, label='sample 3')\n",
    "plt.hist(sample4, alpha=0.5, label='sample 4')\n",
    "plt.legend(loc='upper right')\n",
    "plt.show()\n",
    "\n",
    "print('sample3 mean = ', sample3.mean())\n",
    "print('sample4 mean = ', sample4.mean())\n",
    "print('sample3 standard deviation = ', sample3.std())\n",
    "print('sample4 standard deviation = ', sample4.std())\n",
    "\n",
    "# Compute the difference between the two sample means.\n",
    "diff34=sample4.mean() - sample3.mean()\n",
    "print('difference between the two sample means = ', diff34)\n",
    "\n",
    "print('the t-statistic and p-value are ', ttest_ind(sample4, sample3, equal_var=False))\n",
    "\n",
    "\n",
    "# Decrease sample size from 100 to 20.\n",
    "\n",
    "sample5 = np.random.choice(pop1, 20, replace=True)\n",
    "sample6 = np.random.choice(pop2, 20, replace=True)\n",
    "\n",
    "plt.subplot(1, 2, 2)\n",
    "plt.hist(sample5, alpha=0.5, label='sample 5')\n",
    "plt.hist(sample6, alpha=0.5, label='sample 6')\n",
    "plt.legend(loc='upper right')\n",
    "plt.show()\n",
    "\n",
    "print('sample5 mean = ', sample5.mean())\n",
    "print('sample6 mean = ', sample6.mean())\n",
    "print('sample5 standard deviation = ', sample5.std())\n",
    "print('sample6 standard deviation = ', sample6.std())\n",
    "\n",
    "# Compute the difference between the two sample means.\n",
    "diff56=sample6.mean() - sample5.mean()\n",
    "print('difference between the two sample means = ', diff56)\n",
    "\n",
    "print('the t-statistic and p-value are ', ttest_ind(sample6, sample5, equal_var=False))"
   ]
  },
  {
   "cell_type": "markdown",
   "metadata": {},
   "source": [
    "### The standard deviation decreased as the sample size was increased and increased as sample size decreased.\n",
    "### The p-value becomes significantly smaller as sample size increases."
   ]
  },
  {
   "cell_type": "markdown",
   "metadata": {},
   "source": [
    "### Question 2 - What do I expect to happen when we change probability values to 0.3, then 0.4?\n",
    "###  I expect the inferential statistics to show that the groups are more alike."
   ]
  },
  {
   "cell_type": "code",
   "execution_count": 9,
   "metadata": {},
   "outputs": [
    {
     "data": {
      "image/png": "[encoded data removed]",
      "text/plain": [
       "<matplotlib.figure.Figure at 0x102e3350>"
      ]
     },
     "metadata": {},
     "output_type": "display_data"
    },
    {
     "name": "stdout",
     "output_type": "stream",
     "text": [
      "sample7 mean =  2.82\n",
      "sample8 mean =  5.09\n",
      "sample7 standard deviation =  1.4517575555167603\n",
      "sample8 standard deviation =  1.6738876903783\n",
      "difference between the two sample means =  2.27\n",
      "the t-statistic and p-value are  Ttest_indResult(statistic=10.19353509110205, pvalue=8.143931207629771e-20)\n"
     ]
    },
    {
     "data": {
      "image/png": "[encoded data removed]",
      "text/plain": [
       "<matplotlib.figure.Figure at 0x102e32d0>"
      ]
     },
     "metadata": {},
     "output_type": "display_data"
    },
    {
     "name": "stdout",
     "output_type": "stream",
     "text": [
      "sample9 mean =  3.82\n",
      "sample10 mean =  5.0\n",
      "sample9 standard deviation =  1.4098226838861687\n",
      "sample10 standard deviation =  1.5937377450509227\n",
      "difference between the two sample means =  1.1800000000000002\n",
      "the t-statistic and p-value are  Ttest_indResult(statistic=5.517795224538665, pvalue=1.0826349516771688e-07)\n"
     ]
    }
   ],
   "source": [
    "# Question #2\n",
    "\n",
    "# Change pop1(p) to 0.3\n",
    "\n",
    "pop1_three = np.random.binomial(10, 0.3, 10000)\n",
    "pop2_three = np.random.binomial(10, 0.5, 10000)\n",
    "\n",
    "sample7 = np.random.choice(pop1_three, 100, replace=True)\n",
    "sample8 = np.random.choice(pop2_three, 100, replace=True)\n",
    "\n",
    "plt.subplot(1, 2, 1)\n",
    "plt.hist(sample7, alpha=0.5, label='sample 7')\n",
    "plt.hist(sample8, alpha=0.5, label='sample 8')\n",
    "plt.legend(loc='upper right')\n",
    "plt.show()\n",
    "\n",
    "print('sample7 mean = ', sample7.mean())\n",
    "print('sample8 mean = ', sample8.mean())\n",
    "print('sample7 standard deviation = ', sample7.std())\n",
    "print('sample8 standard deviation = ', sample8.std())\n",
    "\n",
    "# Compute the difference between the two sample means.\n",
    "diff_three = sample8.mean() - sample7.mean()\n",
    "print('difference between the two sample means = ', diff_three)\n",
    "\n",
    "print('the t-statistic and p-value are ', ttest_ind(sample8, sample7, equal_var=False))\n",
    "\n",
    "\n",
    "# Change pop1(p) to 0.4\n",
    "\n",
    "pop1_four = np.random.binomial(10, 0.4, 10000)\n",
    "pop2_four = np.random.binomial(10, 0.5, 10000)\n",
    "\n",
    "sample9 = np.random.choice(pop1_four, 100, replace=True)\n",
    "sample10 = np.random.choice(pop2_four, 100, replace=True)\n",
    "\n",
    "plt.subplot(1, 2, 1)\n",
    "plt.hist(sample9, alpha=0.5, label='sample 9')\n",
    "plt.hist(sample10, alpha=0.5, label='sample 10')\n",
    "plt.legend(loc='upper right')\n",
    "plt.show()\n",
    "\n",
    "print('sample9 mean = ', sample9.mean())\n",
    "print('sample10 mean = ', sample10.mean())\n",
    "print('sample9 standard deviation = ', sample9.std())\n",
    "print('sample10 standard deviation = ', sample10.std())\n",
    "\n",
    "# Compute the difference between the two sample means.\n",
    "diff_four = sample10.mean() - sample9.mean()\n",
    "print('difference between the two sample means = ', diff_four)\n",
    "\n",
    "print('the t-statistic and p-value are ', ttest_ind(sample10, sample9, equal_var=False))"
   ]
  },
  {
   "cell_type": "markdown",
   "metadata": {},
   "source": [
    "### The difference between the two sample means decreased as the pvalue went from 0.3 to 0.4. \n",
    "### The t-statistic decreased and the p-value increased because the samples became more similar."
   ]
  },
  {
   "cell_type": "markdown",
   "metadata": {},
   "source": [
    "###  Question 3.  I changed the distribution of my populations from binomial to poisson.  I expect the sample mean to still accurately represent the population value."
   ]
  },
  {
   "cell_type": "code",
   "execution_count": 10,
   "metadata": {},
   "outputs": [
    {
     "name": "stdout",
     "output_type": "stream",
     "text": [
      "Poisson_population1 mean =  1.02\n",
      "Poisson_population2 mean =  2.89\n",
      "Poisson_population1 standard deviation =  0.9053176238205021\n",
      "Poisson_population2 standard deviation =  1.7486852203870193\n"
     ]
    },
    {
     "data": {
      "image/png": "[encoded data removed]",
      "text/plain": [
       "<matplotlib.figure.Figure at 0x102d25b0>"
      ]
     },
     "metadata": {},
     "output_type": "display_data"
    }
   ],
   "source": [
    "# 3 Change the distribution of your populations from binomial to a distribution of your choice. \n",
    "# Do the sample mean values still accurately represent the population values?\n",
    "\n",
    "pop_poisson1= np.random.poisson(1,100)\n",
    "pop_poisson2= np.random.poisson(3, 100)\n",
    "\n",
    "plt.hist(pop_poisson1, alpha=0.5, label='population 1')\n",
    "plt.hist(pop_poisson2, alpha=0.5, label='population 2')\n",
    "plt.legend(loc='upper right')\n",
    "plt.show\n",
    "\n",
    "print('Poisson_population1 mean = ', pop_poisson1.mean())\n",
    "print('Poisson_population2 mean = ', pop_poisson2.mean())\n",
    "print('Poisson_population1 standard deviation = ', pop_poisson1.std())\n",
    "print('Poisson_population2 standard deviation = ', pop_poisson2.std())"
   ]
  },
  {
   "cell_type": "code",
   "execution_count": 11,
   "metadata": {},
   "outputs": [
    {
     "data": {
      "image/png": "[encoded data removed]",
      "text/plain": [
       "<matplotlib.figure.Figure at 0x103e7170>"
      ]
     },
     "metadata": {},
     "output_type": "display_data"
    },
    {
     "name": "stdout",
     "output_type": "stream",
     "text": [
      "Poisson_sample1 mean =  1.01\n",
      "Poisson_sample2 mean =  3.11\n",
      "Poisson_sample1 standard deviation =  0.9848350115628506\n",
      "Poisson_sample2 standard deviation =  1.7429572570777516\n",
      "difference between the two sample means =  2.0999999999999996\n",
      "the t-statistic and p-value are  Ttest_indResult(statistic=10.437196778859194, pvalue=1.104121858909645e-19)\n"
     ]
    }
   ],
   "source": [
    "sample_pois1 = np.random.choice(pop_poisson1, 100, replace=True)\n",
    "sample_pois2 = np.random.choice(pop_poisson2, 100, replace=True)\n",
    "\n",
    "plt.hist(sample_pois1, alpha=0.5, label='Poisson 1')\n",
    "plt.hist(sample_pois2, alpha=0.5, label='Poisson 2')\n",
    "plt.legend(loc='upper right')\n",
    "plt.show()\n",
    "\n",
    "print('Poisson_sample1 mean = ', sample_pois1.mean())\n",
    "print('Poisson_sample2 mean = ', sample_pois2.mean())\n",
    "print('Poisson_sample1 standard deviation = ', sample_pois1.std())\n",
    "print('Poisson_sample2 standard deviation = ', sample_pois2.std())\n",
    "\n",
    "# Compute the difference between the two sample means.\n",
    "diff_poisson = sample_pois2.mean() - sample_pois1.mean()\n",
    "print('difference between the two sample means = ', diff_poisson)\n",
    "\n",
    "print('the t-statistic and p-value are ', ttest_ind(sample_pois2, sample_pois1, equal_var=False))"
   ]
  },
  {
   "cell_type": "markdown",
   "metadata": {},
   "source": [
    "### 3 - Answer: The small p-value tells us that the sample mean values still accurately represent the population values.\n",
    "### This is true as long as the sample size is large enough, and independent of which distribution we pick."
   ]
  },
  {
   "cell_type": "code",
   "execution_count": null,
   "metadata": {},
   "outputs": [],
   "source": []
  }
 ],
 "metadata": {
  "kernelspec": {
   "display_name": "Python 3",
   "language": "python",
   "name": "python3"
  },
  "language_info": {
   "codemirror_mode": {
    "name": "ipython",
    "version": 3
   },
   "file_extension": ".py",
   "mimetype": "text/x-python",
   "name": "python",
   "nbconvert_exporter": "python",
   "pygments_lexer": "ipython3",
   "version": "3.6.4"
  }
 },
 "nbformat": 4,
 "nbformat_minor": 2
}
