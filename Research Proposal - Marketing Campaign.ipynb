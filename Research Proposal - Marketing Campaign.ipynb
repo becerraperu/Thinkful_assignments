{
 "cells": [
  {
   "cell_type": "markdown",
   "metadata": {},
   "source": [
    "### Unit 1 Capstone - Narrative Analytics and Experimentation\n",
    "### DATA: Marketing Campaign, Promotion Effectiveness – Fast Food Chain\n",
    "\n",
    "Author: Will Becerra <br>\n",
    "Email: willbecerra@yahoo.com <br>\n",
    "Mentor: Yunus Bulut <br>\n",
    "Date: April, 2018\n",
    "\n",
    "Task: Create a research proposal to propose and outline an experiment plan.\n",
    "\n",
    "Experiment: Analyze test market campaigns and promotions based on: \n",
    "- sales\n",
    "- locations\n",
    "- other key metrics  \n",
    "\n",
    "Goal: Predict which customers will respond to which campaign by which channel and why.  Then, test predictions with another round of promotions.  Success will be measured on the 2nd round of promotions coming within 15% or above of expected results.\n",
    "\n",
    "Business goal: Increase the likelihood of responses and quality of leads in future campaigns."
   ]
  },
  {
   "cell_type": "markdown",
   "metadata": {},
   "source": [
    "### Scenario\n",
    "\n",
    "A fast food chain plans to add a new item to its menu. However, they're still undecided between three possible marketing campaigns for promoting the new product.\n",
    "\n",
    "Data Source: <br>\n",
    "IBM posted data for potential Watson Analytics customers to test IBM's analytics product.  The intention for the data set is for Watson users to see how well IBM's product performs in facilitiating analysis of marketing campaign effectiviness.\n",
    "\n",
    "Variables: <br>\n",
    "MarketID - Unique identifier for market <br>\n",
    "MarketSize - Size of market area by sales <br>\n",
    "LocationID - Unique identifier for store location <br>\n",
    "AgeOfStore - Age of store in years <br>\n",
    "Promotion - One of three promotions that was tested <br>\n",
    "week - One of four weeks when the promotions were run, capturing sales of new product over four weeks <br>\n",
    "SalesInThousands - Sales amount for a specific LocationID, Promotion and week <br>\n",
    "\n",
    "### Question: “What drives sales?” "
   ]
  },
  {
   "cell_type": "markdown",
   "metadata": {},
   "source": [
    "### The Plan\n",
    "\n",
    "The plan is to review sales information for small, medium and large locations in 10 different markets for a period of 1 month, over 3 different promotions, and measure the effectiveness of these promotions over a 4 week period.  Then, to test these promotions in the same markets to determine efficacy.\n",
    "\n",
    "Initial data collection: <br>\n",
    "In order to determine which promotion had the greatest effect on sales, the new item was introduced at locations in several randomly selected markets. A different promotion was used at each location, and the weekly sales of the new item was recorded for the first four weeks.  This set a baseline for future tests of promotions.\n",
    "\n"
   ]
  },
  {
   "cell_type": "code",
   "execution_count": 163,
   "metadata": {},
   "outputs": [],
   "source": [
    "import numpy as np\n",
    "import pandas as pd\n",
    "import matplotlib.pyplot as plt\n",
    "import matplotlib.patches as mpatches\n",
    "import seaborn as sns\n",
    "import scipy.stats as stats\n",
    "import statistics\n",
    "from scipy.stats import ttest_ind"
   ]
  },
  {
   "cell_type": "code",
   "execution_count": 164,
   "metadata": {},
   "outputs": [],
   "source": [
    "df = pd.read_csv('marketing_campaign.csv')"
   ]
  },
  {
   "cell_type": "code",
   "execution_count": 165,
   "metadata": {},
   "outputs": [
    {
     "name": "stdout",
     "output_type": "stream",
     "text": [
      "<class 'pandas.core.frame.DataFrame'>\n",
      "RangeIndex: 548 entries, 0 to 547\n",
      "Data columns (total 7 columns):\n",
      "MarketID            548 non-null int64\n",
      "MarketSize          548 non-null object\n",
      "LocationID          548 non-null int64\n",
      "AgeOfStore          548 non-null int64\n",
      "Promotion           548 non-null int64\n",
      "Week                548 non-null int64\n",
      "SalesInThousands    548 non-null float64\n",
      "dtypes: float64(1), int64(5), object(1)\n",
      "memory usage: 27.9+ KB\n"
     ]
    }
   ],
   "source": [
    "df.info()"
   ]
  },
  {
   "cell_type": "code",
   "execution_count": 166,
   "metadata": {},
   "outputs": [
    {
     "data": {
      "text/plain": [
       "Index(['MarketID', 'MarketSize', 'LocationID', 'AgeOfStore', 'Promotion',\n",
       "       'Week', 'SalesInThousands'],\n",
       "      dtype='object')"
      ]
     },
     "execution_count": 166,
     "metadata": {},
     "output_type": "execute_result"
    }
   ],
   "source": [
    "df.columns"
   ]
  },
  {
   "cell_type": "code",
   "execution_count": 167,
   "metadata": {},
   "outputs": [
    {
     "data": {
      "text/plain": [
       "Index(['marketid', 'marketsize', 'locationid', 'ageofstore', 'promotion',\n",
       "       'week', 'salesinthousands'],\n",
       "      dtype='object')"
      ]
     },
     "execution_count": 167,
     "metadata": {},
     "output_type": "execute_result"
    }
   ],
   "source": [
    "df.columns = df.columns.str.lower()\n",
    "df.columns"
   ]
  },
  {
   "cell_type": "code",
   "execution_count": 168,
   "metadata": {
    "scrolled": true
   },
   "outputs": [
    {
     "data": {
      "text/html": [
       "<div>\n",
       "<style scoped>\n",
       "    .dataframe tbody tr th:only-of-type {\n",
       "        vertical-align: middle;\n",
       "    }\n",
       "\n",
       "    .dataframe tbody tr th {\n",
       "        vertical-align: top;\n",
       "    }\n",
       "\n",
       "    .dataframe thead th {\n",
       "        text-align: right;\n",
       "    }\n",
       "</style>\n",
       "<table border=\"1\" class=\"dataframe\">\n",
       "  <thead>\n",
       "    <tr style=\"text-align: right;\">\n",
       "      <th></th>\n",
       "      <th>marketid</th>\n",
       "      <th>marketsize</th>\n",
       "      <th>locationid</th>\n",
       "      <th>ageofstore</th>\n",
       "      <th>promotion</th>\n",
       "      <th>week</th>\n",
       "      <th>salesinthousands</th>\n",
       "    </tr>\n",
       "  </thead>\n",
       "  <tbody>\n",
       "    <tr>\n",
       "      <th>0</th>\n",
       "      <td>1</td>\n",
       "      <td>Medium</td>\n",
       "      <td>1</td>\n",
       "      <td>4</td>\n",
       "      <td>3</td>\n",
       "      <td>1</td>\n",
       "      <td>33.73</td>\n",
       "    </tr>\n",
       "    <tr>\n",
       "      <th>1</th>\n",
       "      <td>1</td>\n",
       "      <td>Medium</td>\n",
       "      <td>1</td>\n",
       "      <td>4</td>\n",
       "      <td>3</td>\n",
       "      <td>2</td>\n",
       "      <td>35.67</td>\n",
       "    </tr>\n",
       "    <tr>\n",
       "      <th>2</th>\n",
       "      <td>1</td>\n",
       "      <td>Medium</td>\n",
       "      <td>1</td>\n",
       "      <td>4</td>\n",
       "      <td>3</td>\n",
       "      <td>3</td>\n",
       "      <td>29.03</td>\n",
       "    </tr>\n",
       "    <tr>\n",
       "      <th>3</th>\n",
       "      <td>1</td>\n",
       "      <td>Medium</td>\n",
       "      <td>1</td>\n",
       "      <td>4</td>\n",
       "      <td>3</td>\n",
       "      <td>4</td>\n",
       "      <td>39.25</td>\n",
       "    </tr>\n",
       "    <tr>\n",
       "      <th>4</th>\n",
       "      <td>1</td>\n",
       "      <td>Medium</td>\n",
       "      <td>2</td>\n",
       "      <td>5</td>\n",
       "      <td>2</td>\n",
       "      <td>1</td>\n",
       "      <td>27.81</td>\n",
       "    </tr>\n",
       "  </tbody>\n",
       "</table>\n",
       "</div>"
      ],
      "text/plain": [
       "   marketid marketsize  locationid  ageofstore  promotion  week  \\\n",
       "0         1     Medium           1           4          3     1   \n",
       "1         1     Medium           1           4          3     2   \n",
       "2         1     Medium           1           4          3     3   \n",
       "3         1     Medium           1           4          3     4   \n",
       "4         1     Medium           2           5          2     1   \n",
       "\n",
       "   salesinthousands  \n",
       "0             33.73  \n",
       "1             35.67  \n",
       "2             29.03  \n",
       "3             39.25  \n",
       "4             27.81  "
      ]
     },
     "execution_count": 168,
     "metadata": {},
     "output_type": "execute_result"
    }
   ],
   "source": [
    "df.head()"
   ]
  },
  {
   "cell_type": "code",
   "execution_count": 169,
   "metadata": {},
   "outputs": [
    {
     "data": {
      "text/plain": [
       "marketid              int64\n",
       "marketsize           object\n",
       "locationid            int64\n",
       "ageofstore            int64\n",
       "promotion             int64\n",
       "week                  int64\n",
       "salesinthousands    float64\n",
       "dtype: object"
      ]
     },
     "execution_count": 169,
     "metadata": {},
     "output_type": "execute_result"
    }
   ],
   "source": [
    "df.dtypes"
   ]
  },
  {
   "cell_type": "code",
   "execution_count": 170,
   "metadata": {},
   "outputs": [
    {
     "data": {
      "text/plain": [
       "marketid            0.0\n",
       "marketsize          0.0\n",
       "locationid          0.0\n",
       "ageofstore          0.0\n",
       "promotion           0.0\n",
       "week                0.0\n",
       "salesinthousands    0.0\n",
       "dtype: float64"
      ]
     },
     "execution_count": 170,
     "metadata": {},
     "output_type": "execute_result"
    }
   ],
   "source": [
    "df.isnull().sum()/df.count()"
   ]
  },
  {
   "cell_type": "code",
   "execution_count": 171,
   "metadata": {},
   "outputs": [
    {
     "data": {
      "text/html": [
       "<div>\n",
       "<style scoped>\n",
       "    .dataframe tbody tr th:only-of-type {\n",
       "        vertical-align: middle;\n",
       "    }\n",
       "\n",
       "    .dataframe tbody tr th {\n",
       "        vertical-align: top;\n",
       "    }\n",
       "\n",
       "    .dataframe thead th {\n",
       "        text-align: right;\n",
       "    }\n",
       "</style>\n",
       "<table border=\"1\" class=\"dataframe\">\n",
       "  <thead>\n",
       "    <tr style=\"text-align: right;\">\n",
       "      <th></th>\n",
       "      <th>marketid</th>\n",
       "      <th>marketsize</th>\n",
       "      <th>locationid</th>\n",
       "      <th>ageofstore</th>\n",
       "      <th>promotion</th>\n",
       "      <th>week</th>\n",
       "      <th>salesinthousands</th>\n",
       "    </tr>\n",
       "  </thead>\n",
       "  <tbody>\n",
       "    <tr>\n",
       "      <th>0</th>\n",
       "      <td>1</td>\n",
       "      <td>Medium</td>\n",
       "      <td>1</td>\n",
       "      <td>4</td>\n",
       "      <td>3</td>\n",
       "      <td>1</td>\n",
       "      <td>33.73</td>\n",
       "    </tr>\n",
       "    <tr>\n",
       "      <th>1</th>\n",
       "      <td>1</td>\n",
       "      <td>Medium</td>\n",
       "      <td>1</td>\n",
       "      <td>4</td>\n",
       "      <td>3</td>\n",
       "      <td>2</td>\n",
       "      <td>35.67</td>\n",
       "    </tr>\n",
       "    <tr>\n",
       "      <th>2</th>\n",
       "      <td>1</td>\n",
       "      <td>Medium</td>\n",
       "      <td>1</td>\n",
       "      <td>4</td>\n",
       "      <td>3</td>\n",
       "      <td>3</td>\n",
       "      <td>29.03</td>\n",
       "    </tr>\n",
       "    <tr>\n",
       "      <th>3</th>\n",
       "      <td>1</td>\n",
       "      <td>Medium</td>\n",
       "      <td>1</td>\n",
       "      <td>4</td>\n",
       "      <td>3</td>\n",
       "      <td>4</td>\n",
       "      <td>39.25</td>\n",
       "    </tr>\n",
       "    <tr>\n",
       "      <th>4</th>\n",
       "      <td>1</td>\n",
       "      <td>Medium</td>\n",
       "      <td>2</td>\n",
       "      <td>5</td>\n",
       "      <td>2</td>\n",
       "      <td>1</td>\n",
       "      <td>27.81</td>\n",
       "    </tr>\n",
       "  </tbody>\n",
       "</table>\n",
       "</div>"
      ],
      "text/plain": [
       "   marketid marketsize  locationid  ageofstore  promotion  week  \\\n",
       "0         1     Medium           1           4          3     1   \n",
       "1         1     Medium           1           4          3     2   \n",
       "2         1     Medium           1           4          3     3   \n",
       "3         1     Medium           1           4          3     4   \n",
       "4         1     Medium           2           5          2     1   \n",
       "\n",
       "   salesinthousands  \n",
       "0             33.73  \n",
       "1             35.67  \n",
       "2             29.03  \n",
       "3             39.25  \n",
       "4             27.81  "
      ]
     },
     "execution_count": 171,
     "metadata": {},
     "output_type": "execute_result"
    }
   ],
   "source": [
    "df.head()"
   ]
  },
  {
   "cell_type": "code",
   "execution_count": 172,
   "metadata": {},
   "outputs": [
    {
     "name": "stdout",
     "output_type": "stream",
     "text": [
      "10\n",
      "[ 1  2  3  4  5  6  7  8  9 10]\n"
     ]
    }
   ],
   "source": [
    "print(df.marketid.nunique())\n",
    "print(df.marketid.unique())"
   ]
  },
  {
   "cell_type": "code",
   "execution_count": 173,
   "metadata": {},
   "outputs": [
    {
     "data": {
      "text/plain": [
       "array(['Medium', 'Small', 'Large'], dtype=object)"
      ]
     },
     "execution_count": 173,
     "metadata": {},
     "output_type": "execute_result"
    }
   ],
   "source": [
    "df.marketsize.unique()"
   ]
  },
  {
   "cell_type": "code",
   "execution_count": 174,
   "metadata": {
    "scrolled": true
   },
   "outputs": [
    {
     "data": {
      "text/plain": [
       "count    548.000000\n",
       "mean       8.503650\n",
       "std        6.638345\n",
       "min        1.000000\n",
       "25%        4.000000\n",
       "50%        7.000000\n",
       "75%       12.000000\n",
       "max       28.000000\n",
       "Name: ageofstore, dtype: float64"
      ]
     },
     "execution_count": 174,
     "metadata": {},
     "output_type": "execute_result"
    }
   ],
   "source": [
    "df['ageofstore'].describe()"
   ]
  },
  {
   "cell_type": "code",
   "execution_count": 175,
   "metadata": {},
   "outputs": [
    {
     "data": {
      "text/plain": [
       "array([3, 2, 1], dtype=int64)"
      ]
     },
     "execution_count": 175,
     "metadata": {},
     "output_type": "execute_result"
    }
   ],
   "source": [
    "df.promotion.unique()"
   ]
  },
  {
   "cell_type": "code",
   "execution_count": 176,
   "metadata": {},
   "outputs": [
    {
     "data": {
      "text/plain": [
       "array([1, 2, 3, 4], dtype=int64)"
      ]
     },
     "execution_count": 176,
     "metadata": {},
     "output_type": "execute_result"
    }
   ],
   "source": [
    "df.week.unique()"
   ]
  },
  {
   "cell_type": "code",
   "execution_count": 177,
   "metadata": {
    "scrolled": true
   },
   "outputs": [
    {
     "data": {
      "text/plain": [
       "count    548.000000\n",
       "mean      53.466204\n",
       "std       16.755216\n",
       "min       17.340000\n",
       "25%       42.545000\n",
       "50%       50.200000\n",
       "75%       60.477500\n",
       "max       99.650000\n",
       "Name: salesinthousands, dtype: float64"
      ]
     },
     "execution_count": 177,
     "metadata": {},
     "output_type": "execute_result"
    }
   ],
   "source": [
    "df['salesinthousands'].describe()"
   ]
  },
  {
   "cell_type": "markdown",
   "metadata": {},
   "source": [
    "There are 10 Markets, classified as small medium and large.  The maximum age of the stores is 28 years.  There were 3 different promotions over a 4 week period."
   ]
  },
  {
   "cell_type": "markdown",
   "metadata": {},
   "source": [
    "MarketID\n",
    "- Unique identifier for market (1 – 10).\n",
    "\n",
    "MarketSize\n",
    "- Size of market area by sales (Small, Medium, Large).\n",
    "\n",
    "LocationID\n",
    "- Unique identifier for store location.\n",
    "\n",
    "AgeOfStore\n",
    "- Age of store in years (1 – 28).\n",
    "\n",
    "Promotion\n",
    "- One of three promotions that was tested (1, 2, 3).\n",
    "\n",
    "week\n",
    "- One of four weeks when the promotions were run (1 – 4). \n",
    "- Company captured sales of new product over four weeks.\n",
    "\n",
    "SalesInThousands\n",
    "- Sales amount for a specific LocationID, Promotion and week."
   ]
  },
  {
   "cell_type": "code",
   "execution_count": 178,
   "metadata": {},
   "outputs": [
    {
     "data": {
      "text/html": [
       "<div>\n",
       "<style scoped>\n",
       "    .dataframe tbody tr th:only-of-type {\n",
       "        vertical-align: middle;\n",
       "    }\n",
       "\n",
       "    .dataframe tbody tr th {\n",
       "        vertical-align: top;\n",
       "    }\n",
       "\n",
       "    .dataframe thead th {\n",
       "        text-align: right;\n",
       "    }\n",
       "</style>\n",
       "<table border=\"1\" class=\"dataframe\">\n",
       "  <thead>\n",
       "    <tr style=\"text-align: right;\">\n",
       "      <th>week</th>\n",
       "      <th>locationid</th>\n",
       "      <th>promotion</th>\n",
       "      <th>1</th>\n",
       "      <th>2</th>\n",
       "      <th>3</th>\n",
       "      <th>4</th>\n",
       "    </tr>\n",
       "  </thead>\n",
       "  <tbody>\n",
       "    <tr>\n",
       "      <th>0</th>\n",
       "      <td>1</td>\n",
       "      <td>3</td>\n",
       "      <td>33.73</td>\n",
       "      <td>35.67</td>\n",
       "      <td>29.03</td>\n",
       "      <td>39.25</td>\n",
       "    </tr>\n",
       "    <tr>\n",
       "      <th>1</th>\n",
       "      <td>2</td>\n",
       "      <td>2</td>\n",
       "      <td>27.81</td>\n",
       "      <td>34.67</td>\n",
       "      <td>27.98</td>\n",
       "      <td>27.72</td>\n",
       "    </tr>\n",
       "    <tr>\n",
       "      <th>2</th>\n",
       "      <td>3</td>\n",
       "      <td>1</td>\n",
       "      <td>44.54</td>\n",
       "      <td>37.94</td>\n",
       "      <td>45.49</td>\n",
       "      <td>34.75</td>\n",
       "    </tr>\n",
       "    <tr>\n",
       "      <th>3</th>\n",
       "      <td>4</td>\n",
       "      <td>2</td>\n",
       "      <td>39.28</td>\n",
       "      <td>39.80</td>\n",
       "      <td>24.77</td>\n",
       "      <td>30.98</td>\n",
       "    </tr>\n",
       "    <tr>\n",
       "      <th>4</th>\n",
       "      <td>5</td>\n",
       "      <td>2</td>\n",
       "      <td>30.37</td>\n",
       "      <td>24.82</td>\n",
       "      <td>37.47</td>\n",
       "      <td>23.35</td>\n",
       "    </tr>\n",
       "  </tbody>\n",
       "</table>\n",
       "</div>"
      ],
      "text/plain": [
       "week  locationid  promotion      1      2      3      4\n",
       "0              1          3  33.73  35.67  29.03  39.25\n",
       "1              2          2  27.81  34.67  27.98  27.72\n",
       "2              3          1  44.54  37.94  45.49  34.75\n",
       "3              4          2  39.28  39.80  24.77  30.98\n",
       "4              5          2  30.37  24.82  37.47  23.35"
      ]
     },
     "execution_count": 178,
     "metadata": {},
     "output_type": "execute_result"
    }
   ],
   "source": [
    "pivoted = df.pivot_table(index=['locationid','promotion'], values = 'salesinthousands', columns = 'week')\n",
    "pivoted2 = pivoted.reset_index()\n",
    "pivoted2.head()"
   ]
  },
  {
   "cell_type": "code",
   "execution_count": 179,
   "metadata": {},
   "outputs": [
    {
     "data": {
      "text/html": [
       "<div>\n",
       "<style scoped>\n",
       "    .dataframe tbody tr th:only-of-type {\n",
       "        vertical-align: middle;\n",
       "    }\n",
       "\n",
       "    .dataframe tbody tr th {\n",
       "        vertical-align: top;\n",
       "    }\n",
       "\n",
       "    .dataframe thead th {\n",
       "        text-align: right;\n",
       "    }\n",
       "</style>\n",
       "<table border=\"1\" class=\"dataframe\">\n",
       "  <thead>\n",
       "    <tr style=\"text-align: right;\">\n",
       "      <th>week</th>\n",
       "      <th>locationid</th>\n",
       "      <th>promotion</th>\n",
       "      <th>1</th>\n",
       "      <th>2</th>\n",
       "      <th>3</th>\n",
       "      <th>4</th>\n",
       "      <th>week_two_minus_one</th>\n",
       "      <th>week_three_minus_one</th>\n",
       "      <th>week_four_minus_one</th>\n",
       "    </tr>\n",
       "  </thead>\n",
       "  <tbody>\n",
       "    <tr>\n",
       "      <th>0</th>\n",
       "      <td>1</td>\n",
       "      <td>3</td>\n",
       "      <td>33.73</td>\n",
       "      <td>35.67</td>\n",
       "      <td>29.03</td>\n",
       "      <td>39.25</td>\n",
       "      <td>1.94</td>\n",
       "      <td>-4.70</td>\n",
       "      <td>5.52</td>\n",
       "    </tr>\n",
       "    <tr>\n",
       "      <th>1</th>\n",
       "      <td>2</td>\n",
       "      <td>2</td>\n",
       "      <td>27.81</td>\n",
       "      <td>34.67</td>\n",
       "      <td>27.98</td>\n",
       "      <td>27.72</td>\n",
       "      <td>6.86</td>\n",
       "      <td>0.17</td>\n",
       "      <td>-0.09</td>\n",
       "    </tr>\n",
       "    <tr>\n",
       "      <th>2</th>\n",
       "      <td>3</td>\n",
       "      <td>1</td>\n",
       "      <td>44.54</td>\n",
       "      <td>37.94</td>\n",
       "      <td>45.49</td>\n",
       "      <td>34.75</td>\n",
       "      <td>-6.60</td>\n",
       "      <td>0.95</td>\n",
       "      <td>-9.79</td>\n",
       "    </tr>\n",
       "    <tr>\n",
       "      <th>3</th>\n",
       "      <td>4</td>\n",
       "      <td>2</td>\n",
       "      <td>39.28</td>\n",
       "      <td>39.80</td>\n",
       "      <td>24.77</td>\n",
       "      <td>30.98</td>\n",
       "      <td>0.52</td>\n",
       "      <td>-14.51</td>\n",
       "      <td>-8.30</td>\n",
       "    </tr>\n",
       "    <tr>\n",
       "      <th>4</th>\n",
       "      <td>5</td>\n",
       "      <td>2</td>\n",
       "      <td>30.37</td>\n",
       "      <td>24.82</td>\n",
       "      <td>37.47</td>\n",
       "      <td>23.35</td>\n",
       "      <td>-5.55</td>\n",
       "      <td>7.10</td>\n",
       "      <td>-7.02</td>\n",
       "    </tr>\n",
       "  </tbody>\n",
       "</table>\n",
       "</div>"
      ],
      "text/plain": [
       "week  locationid  promotion      1      2      3      4  week_two_minus_one  \\\n",
       "0              1          3  33.73  35.67  29.03  39.25                1.94   \n",
       "1              2          2  27.81  34.67  27.98  27.72                6.86   \n",
       "2              3          1  44.54  37.94  45.49  34.75               -6.60   \n",
       "3              4          2  39.28  39.80  24.77  30.98                0.52   \n",
       "4              5          2  30.37  24.82  37.47  23.35               -5.55   \n",
       "\n",
       "week  week_three_minus_one  week_four_minus_one  \n",
       "0                    -4.70                 5.52  \n",
       "1                     0.17                -0.09  \n",
       "2                     0.95                -9.79  \n",
       "3                   -14.51                -8.30  \n",
       "4                     7.10                -7.02  "
      ]
     },
     "execution_count": 179,
     "metadata": {},
     "output_type": "execute_result"
    }
   ],
   "source": [
    "pivoted2['week_two_minus_one'] = pivoted2[2] - pivoted2[1]\n",
    "pivoted2['week_three_minus_one'] = pivoted2[3] - pivoted2[1]\n",
    "pivoted2['week_four_minus_one'] = pivoted2[4] - pivoted2[1]\n",
    "pivoted2.head()"
   ]
  },
  {
   "cell_type": "code",
   "execution_count": 180,
   "metadata": {
    "scrolled": true
   },
   "outputs": [],
   "source": [
    "week2_minus_week1 = pivoted2.groupby(['promotion'])['week_two_minus_one'].mean()\n",
    "week3_minus_week1 = pivoted2.groupby(['promotion'])['week_three_minus_one'].mean()\n",
    "week4_minus_week1 = pivoted2.groupby(['promotion'])['week_four_minus_one'].mean()"
   ]
  },
  {
   "cell_type": "code",
   "execution_count": 181,
   "metadata": {},
   "outputs": [
    {
     "data": {
      "text/plain": [
       "<matplotlib.axes._subplots.AxesSubplot at 0x10203fd0>"
      ]
     },
     "execution_count": 181,
     "metadata": {},
     "output_type": "execute_result"
    },
    {
     "data": {
      "image/png": "[encoded data removed]",
      "text/plain": [
       "<matplotlib.figure.Figure at 0x3a0d930>"
      ]
     },
     "metadata": {},
     "output_type": "display_data"
    }
   ],
   "source": [
    "week2_minus_week1.plot.bar()"
   ]
  },
  {
   "cell_type": "code",
   "execution_count": 182,
   "metadata": {},
   "outputs": [
    {
     "data": {
      "text/plain": [
       "<matplotlib.axes._subplots.AxesSubplot at 0x10324130>"
      ]
     },
     "execution_count": 182,
     "metadata": {},
     "output_type": "execute_result"
    },
    {
     "data": {
      "image/png": "[encoded data removed]",
      "text/plain": [
       "<matplotlib.figure.Figure at 0x10290bf0>"
      ]
     },
     "metadata": {},
     "output_type": "display_data"
    }
   ],
   "source": [
    "week3_minus_week1.plot.bar()"
   ]
  },
  {
   "cell_type": "code",
   "execution_count": 183,
   "metadata": {},
   "outputs": [
    {
     "data": {
      "text/plain": [
       "<matplotlib.axes._subplots.AxesSubplot at 0x3a23510>"
      ]
     },
     "execution_count": 183,
     "metadata": {},
     "output_type": "execute_result"
    },
    {
     "data": {
      "image/png": "[encoded data removed]",
      "text/plain": [
       "<matplotlib.figure.Figure at 0x3984d50>"
      ]
     },
     "metadata": {},
     "output_type": "display_data"
    }
   ],
   "source": [
    "week4_minus_week1.plot.bar()"
   ]
  },
  {
   "cell_type": "markdown",
   "metadata": {},
   "source": [
    "We didn't have a baseline revenue number, but if we look at the change in revenue over time: \n",
    "- promotion 1 had an initial decrease, then consistent revenue growth per week\n",
    "- promotion 2 had a negative trend in sales over all 4 weeks\n",
    "- promotion 3 had an initial small increase, then decreases in revenue through the fourth week."
   ]
  },
  {
   "cell_type": "code",
   "execution_count": 184,
   "metadata": {},
   "outputs": [
    {
     "data": {
      "image/png": "[encoded data removed]",
      "text/plain": [
       "<matplotlib.figure.Figure at 0x39e0b50>"
      ]
     },
     "metadata": {},
     "output_type": "display_data"
    }
   ],
   "source": [
    "sns.barplot(x=\"marketsize\", y=\"salesinthousands\", hue=\"promotion\", data=df);\n",
    "p1 = mpatches.Patch(color='blue', label='Promotion 1')\n",
    "p2 = mpatches.Patch(color='orange', label='Promotion 2')\n",
    "p3 = mpatches.Patch(color='green', label='Promotion 3')\n",
    "plt.legend(handles=[p1, p2, p3], loc='upper left')\n",
    "\n",
    "plt.xlabel('Market ID')\n",
    "plt.ylabel('Sales (thousands)')\n",
    "plt.title('Sales by Market and Promotion')\n",
    "\n",
    "plt.show()"
   ]
  },
  {
   "cell_type": "code",
   "execution_count": 185,
   "metadata": {
    "scrolled": true
   },
   "outputs": [
    {
     "data": {
      "image/png": "[encoded data removed]",
      "text/plain": [
       "<matplotlib.figure.Figure at 0x3a0dcf0>"
      ]
     },
     "metadata": {},
     "output_type": "display_data"
    }
   ],
   "source": [
    "sns.barplot(x=\"marketid\", y=\"salesinthousands\", data=df);\n",
    "\n",
    "plt.xlabel('Market ID')\n",
    "plt.ylabel('Sales (thousands)')\n",
    "plt.title('Sales by Market')\n",
    "\n",
    "plt.show()"
   ]
  },
  {
   "cell_type": "code",
   "execution_count": 186,
   "metadata": {},
   "outputs": [
    {
     "data": {
      "image/png": "[encoded data removed]",
      "text/plain": [
       "<matplotlib.figure.Figure at 0x10324030>"
      ]
     },
     "metadata": {},
     "output_type": "display_data"
    }
   ],
   "source": [
    "sns.barplot(x=\"marketid\", y=\"salesinthousands\", hue=\"promotion\", data=df);\n",
    "p1 = mpatches.Patch(color='blue', label='Promotion 1')\n",
    "p2 = mpatches.Patch(color='orange', label='Promotion 2')\n",
    "p3 = mpatches.Patch(color='green', label='Promotion 3')\n",
    "plt.legend(handles=[p1, p2, p3], loc='upper right')\n",
    "\n",
    "plt.xlabel('Market ID')\n",
    "plt.ylabel('Sales (thousands)')\n",
    "plt.title('Sales by Market and Promotion')\n",
    "\n",
    "plt.show()"
   ]
  },
  {
   "cell_type": "markdown",
   "metadata": {},
   "source": [
    "The  high level analysis above gives a glimpse into how well promotions did per market and with respect to each other.  \n",
    "While outside the scope of the Research Proposal assignment, an initial run through of the available data informs the development of proposal scope."
   ]
  }
 ],
 "metadata": {
  "kernelspec": {
   "display_name": "Python 3",
   "language": "python",
   "name": "python3"
  },
  "language_info": {
   "codemirror_mode": {
    "name": "ipython",
    "version": 3
   },
   "file_extension": ".py",
   "mimetype": "text/x-python",
   "name": "python",
   "nbconvert_exporter": "python",
   "pygments_lexer": "ipython3",
   "version": "3.6.4"
  }
 },
 "nbformat": 4,
 "nbformat_minor": 2
}
