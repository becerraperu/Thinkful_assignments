{
 "cells": [
  {
   "cell_type": "code",
   "execution_count": 16,
   "metadata": {},
   "outputs": [],
   "source": [
    "# Drill: Signals & Noise\n",
    "# Calculate the t-values for the following numbers:    \n",
    "list1 = [5,8,1,3,200,500]\n",
    "list2 = [1090,999,400,30,900,100]\n",
    "list3 = [45,40,45,40,2000,2000]"
   ]
  },
  {
   "cell_type": "code",
   "execution_count": 19,
   "metadata": {},
   "outputs": [],
   "source": [
    "def ttest(d):\n",
    "    tt = (d[0] - d[1])/(d[2]**2/d[4] + d[3]**2/d[5])** 0.5\n",
    "    return tt    "
   ]
  },
  {
   "cell_type": "code",
   "execution_count": 20,
   "metadata": {},
   "outputs": [
    {
     "name": "stdout",
     "output_type": "stream",
     "text": [
      "-19.78141420187361\n",
      "6.658536585365854\n",
      "3.7139067635410377\n"
     ]
    }
   ],
   "source": [
    "print (ttest(list1))\n",
    "print (ttest(list2))\n",
    "print (ttest(list3))"
   ]
  }
 ],
 "metadata": {
  "kernelspec": {
   "display_name": "Python 3",
   "language": "python",
   "name": "python3"
  },
  "language_info": {
   "codemirror_mode": {
    "name": "ipython",
    "version": 3
   },
   "file_extension": ".py",
   "mimetype": "text/x-python",
   "name": "python",
   "nbconvert_exporter": "python",
   "pygments_lexer": "ipython3",
   "version": "3.6.4"
  }
 },
 "nbformat": 4,
 "nbformat_minor": 2
}
