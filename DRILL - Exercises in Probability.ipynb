{
 "cells": [
  {
   "cell_type": "code",
   "execution_count": 2,
   "metadata": {},
   "outputs": [
    {
     "data": {
      "text/plain": [
       "0.0625"
      ]
     },
     "execution_count": 2,
     "metadata": {},
     "output_type": "execute_result"
    }
   ],
   "source": [
    "# DRILL - Exercises in Probability\n",
    "\n",
    "# 1. Calculate the probability of flipping a balanced coin four times and \n",
    "#   getting each pattern: HTTH, HHHH and TTHH.\n",
    "\n",
    "prob1 = 0.5**4\n",
    "prob1"
   ]
  },
  {
   "cell_type": "markdown",
   "metadata": {},
   "source": [
    "### # 2. If a list of people has 24 women and 21 men, then the probability of choosing a man from the list is 21/45. \n",
    "### What is the probability of not choosing a man?\n",
    "\n",
    "### There are 24 women so the probability is = 24/45"
   ]
  },
  {
   "cell_type": "code",
   "execution_count": 5,
   "metadata": {},
   "outputs": [
    {
     "data": {
      "text/plain": [
       "5e-06"
      ]
     },
     "execution_count": 5,
     "metadata": {},
     "output_type": "execute_result"
    }
   ],
   "source": [
    "# 3. The probability that Bernice will travel by plane sometime in the next year is 10%. \n",
    "# The probability of a plane crash at any time is .005%. \n",
    "# What is the probability that Bernice will be in a plane crash sometime in the next year?\n",
    "\n",
    "p1 = 0.1\n",
    "p2 = 0.00005\n",
    "prob_crash = p1*p2\n",
    "prob_crash"
   ]
  },
  {
   "cell_type": "code",
   "execution_count": null,
   "metadata": {},
   "outputs": [],
   "source": [
    "# 4. A data scientist wants to study the behavior of users on the company website. \n",
    "# Each time a user clicks on a link on the website, there is a 5% chance that the user will be asked to complete a short survey about their behavior on the website. \n",
    "# The data scientist uses the survey data to conclude that, on average, \n",
    "#   users spend 15 minutes surfing the company website before moving on to other things. \n",
    "# What is wrong with this conclusion?"
   ]
  },
  {
   "cell_type": "markdown",
   "metadata": {},
   "source": [
    "### Respondents of survey are not the average user.  \n",
    "### There is selection bias as people who surf longer are likely to click more links, increasing the odds of getting a survey "
   ]
  }
 ],
 "metadata": {
  "kernelspec": {
   "display_name": "Python 3",
   "language": "python",
   "name": "python3"
  },
  "language_info": {
   "codemirror_mode": {
    "name": "ipython",
    "version": 3
   },
   "file_extension": ".py",
   "mimetype": "text/x-python",
   "name": "python",
   "nbconvert_exporter": "python",
   "pygments_lexer": "ipython3",
   "version": "3.6.4"
  }
 },
 "nbformat": 4,
 "nbformat_minor": 2
}
